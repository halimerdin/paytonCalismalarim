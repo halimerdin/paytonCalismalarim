{
 "cells": [
  {
   "cell_type": "markdown",
   "id": "eddfcdc1",
   "metadata": {},
   "source": [
    "### diziler ile ilgili genel bilgiler"
   ]
  },
  {
   "cell_type": "markdown",
   "id": "37a272bf",
   "metadata": {},
   "source": [
    "bir boyutlu dizilere vektör de denebilir sadece satır yada sadece sutundan oluşurlar"
   ]
  },
  {
   "cell_type": "markdown",
   "id": "4ca6266d",
   "metadata": {},
   "source": [
    "iki boyutlu diziler matris olarak adlandırılan ve satır ile sütundan oluşan veri alanlarıdır."
   ]
  },
  {
   "cell_type": "markdown",
   "id": "f02c3a18",
   "metadata": {},
   "source": [
    "**701** n tane verinin kalvyeden girilmesi ve A dizisine A=(a1,a2,a3,......,an) olarak yerleştirilmesi\n",
    "***\n",
    "python dizi içerisine değer veri eklenemesi **.append** komutuyla gerçekleştirilir."
   ]
  },
  {
   "cell_type": "code",
   "execution_count": 43,
   "id": "e494f6d8",
   "metadata": {},
   "outputs": [
    {
     "name": "stdout",
     "output_type": "stream",
     "text": [
      "N= 1\n",
      "1\n",
      "A(0)=1\n"
     ]
    }
   ],
   "source": [
    "N=int(input(\"N= \"))\n",
    "A=[]\n",
    "for i in range(1,N,1):\n",
    "    A=eval(input())\n",
    "    print(\"A({0})={1}\".format(i,A))\n",
    "    "
   ]
  },
  {
   "cell_type": "markdown",
   "id": "5b664fcf",
   "metadata": {},
   "source": [
    "**702** N elamanlı bir dizinin indislerini yazdırmak"
   ]
  },
  {
   "cell_type": "code",
   "execution_count": 13,
   "id": "8a287314",
   "metadata": {},
   "outputs": [
    {
     "name": "stdout",
     "output_type": "stream",
     "text": [
      "N=5\n",
      "A(1)\n",
      "A(2)\n",
      "A(3)\n",
      "A(4)\n",
      "A(5)\n"
     ]
    }
   ],
   "source": [
    "N=int(input(\"N=\"))\n",
    "A=[]\n",
    "for i in range(1,N+1,1):\n",
    "    print(\"A({0})\".format(i))"
   ]
  },
  {
   "cell_type": "markdown",
   "id": "3ea56177",
   "metadata": {},
   "source": [
    "**703** tüm elemanları 0 olan n elemanlı bir A dizisi oluşturan program"
   ]
  },
  {
   "cell_type": "code",
   "execution_count": 16,
   "id": "f11279b0",
   "metadata": {},
   "outputs": [
    {
     "name": "stdout",
     "output_type": "stream",
     "text": [
      "N=5\n",
      "[0, 0, 0, 0, 0]\n"
     ]
    }
   ],
   "source": [
    "N=int(input(\"N=\"))\n",
    "A=[]\n",
    "for i in range(1,N+1,1):\n",
    "    A.append(0)\n",
    "print(A)"
   ]
  },
  {
   "cell_type": "markdown",
   "id": "da4b7e83",
   "metadata": {},
   "source": [
    "**704** N elemanlı bir A dizisinin elemanlarını toplayan program\n",
    "****\n",
    "dizinin elemanları el ile girilecek\n"
   ]
  },
  {
   "cell_type": "code",
   "execution_count": 50,
   "id": "29898e93",
   "metadata": {},
   "outputs": [
    {
     "name": "stdout",
     "output_type": "stream",
     "text": [
      "N= 5\n",
      "54\n",
      "A(0)=[54]\n",
      "56\n",
      "A(1)=[54, 56]\n",
      "45\n",
      "A(2)=[54, 56, 45]\n",
      "5\n",
      "A(3)=[54, 56, 45, 5]\n",
      "-13\n",
      "A(4)=[54, 56, 45, 5, -13]\n",
      "A dizisinin elemanları= [54, 56, 45, 5, -13]\n",
      "dizinin toplamı t= 147\n"
     ]
    }
   ],
   "source": [
    "import numpy as np\n",
    "N=int(input(\"N= \"))\n",
    "A=[]\n",
    "t=0\n",
    "#elemanları el ile girilen dizi oluşturulması\n",
    "for i in range(0,N,1):\n",
    "    x=input()\n",
    "    A.append(int(x))\n",
    "    print(\"A({0})={1}\".format(i,A))\n",
    "    t=t+A[i]\n",
    "#dizi oluşturuldu\n",
    "print(\"A dizisinin elemanları= {0}\".format(A))\n",
    "print(\"dizinin toplamı t= {0}\".format(t))\n"
   ]
  },
  {
   "cell_type": "code",
   "execution_count": 44,
   "id": "7a94d031",
   "metadata": {},
   "outputs": [
    {
     "name": "stdout",
     "output_type": "stream",
     "text": [
      "N= 5\n",
      "1\n",
      "2\n",
      "3\n",
      "4\n",
      "5\n",
      "[1, 2, 3, 4, 5]\n"
     ]
    }
   ],
   "source": [
    "N=int(input(\"N= \"))\n",
    "A=list()\n",
    "for i in range(0,N,1):\n",
    "    x=input()\n",
    "    A.append(int(x))\n",
    "print(A)"
   ]
  },
  {
   "cell_type": "markdown",
   "id": "e3486923",
   "metadata": {},
   "source": [
    "**705** N elemanlı A ve B dizilerini toplayarak C dizisini oluşturan program"
   ]
  },
  {
   "cell_type": "code",
   "execution_count": 53,
   "id": "850f2fc8",
   "metadata": {},
   "outputs": [
    {
     "name": "stdout",
     "output_type": "stream",
     "text": [
      "N= 3\n",
      "1\n",
      "A(0)=[1]\n",
      "2\n",
      "A(1)=[1, 2]\n",
      "3\n",
      "A(2)=[1, 2, 3]\n",
      "A dizisinin elemanları= [1, 2, 3]\n",
      "4\n",
      "B(0)=[4]\n",
      "5\n",
      "B(1)=[4, 5]\n",
      "6\n",
      "B(2)=[4, 5, 6]\n",
      "B dizisinin elemanları= [4, 5, 6]\n"
     ]
    }
   ],
   "source": [
    "# a ve b dizilerinin oluşturulup ekrana yazdırılması\n",
    "N=int(input(\"N= \"))\n",
    "\n",
    "#A dizisi yazdırılması\n",
    "A=[]\n",
    "for i in range(0,N,1):\n",
    "    x=input()\n",
    "    A.append(int(x))\n",
    "    print(\"A({0})={1}\".format(i,A))\n",
    "print(\"A dizisinin elemanları= {0}\".format(A))\n",
    "\n",
    "#B dizisi yazdırılması\n",
    "B=[]\n",
    "for j in range(0,N,1):\n",
    "    y=input()\n",
    "    B.append(int(y))\n",
    "    print(\"B({0})={1}\".format(j,B))\n",
    "print(\"B dizisinin elemanları= {0}\".format(B))\n"
   ]
  },
  {
   "cell_type": "code",
   "execution_count": 55,
   "id": "10f43ac9",
   "metadata": {},
   "outputs": [
    {
     "ename": "SyntaxError",
     "evalue": "cannot assign to function call (Temp/ipykernel_2956/2935763891.py, line 24)",
     "output_type": "error",
     "traceback": [
      "\u001b[1;36m  File \u001b[1;32m\"C:\\Users\\HALIM\\AppData\\Local\\Temp/ipykernel_2956/2935763891.py\"\u001b[1;36m, line \u001b[1;32m24\u001b[0m\n\u001b[1;33m    C(k)=A(k)+B(k)\u001b[0m\n\u001b[1;37m    ^\u001b[0m\n\u001b[1;31mSyntaxError\u001b[0m\u001b[1;31m:\u001b[0m cannot assign to function call\n"
     ]
    }
   ],
   "source": [
    "# a ve b dizilerinin oluşturulup ekrana yazdırılması\n",
    "#oluşturulan dizilerin c dizisinde toplanması\n",
    "N=int(input(\"N= \"))\n",
    "\n",
    "#A dizisi yazdırılması\n",
    "A=[]\n",
    "for i in range(0,N,1):\n",
    "    x=input()\n",
    "    A.append(int(x))\n",
    "    print(\"A({0})={1}\".format(i,A))\n",
    "print(\"A dizisinin elemanları= {0}\".format(A))\n",
    "\n",
    "#B dizisi yazdırılması\n",
    "B=[]\n",
    "for j in range(0,N,1):\n",
    "    y=input()\n",
    "    B.append(int(y))\n",
    "    print(\"B({0})={1}\".format(j,B))\n",
    "print(\"B dizisinin elemanları= {0}\".format(B))\n",
    "\n",
    "#oluşturulan dizilerin c dizisinde toplanması\n",
    "C=[]\n",
    "for k in range(0,N,1):\n",
    "    C(k)=A(k)+B(k)\n",
    "print(C)"
   ]
  },
  {
   "cell_type": "code",
   "execution_count": 60,
   "id": "ae8885e1",
   "metadata": {},
   "outputs": [
    {
     "name": "stdout",
     "output_type": "stream",
     "text": [
      "N= 3\n",
      "1\n",
      "A(0)=[1]\n",
      "2\n",
      "B(0)=[2]\n",
      "3\n",
      "A(1)=[1, 3]\n",
      "4\n",
      "B(1)=[2, 4]\n",
      "5\n",
      "A(2)=[1, 3, 5]\n",
      "6\n",
      "B(2)=[2, 4, 6]\n",
      "A dizisinin elemanları= [1, 3, 5]\n",
      "B dizisinin elemanları= [2, 4, 6]\n",
      "[1, 3, 5, 2, 4, 6]\n"
     ]
    }
   ],
   "source": [
    "# a ve b dizilerinin oluşturulup ekrana yazdırılması\n",
    "#oluşturulan dizilerin c dizisinde toplanması\n",
    "N=int(input(\"N= \"))\n",
    "\n",
    "A=[]\n",
    "B=[]\n",
    "for i in range(0,N,1):\n",
    "    x=input()\n",
    "    A.append(int(x))\n",
    "    print(\"A({0})={1}\".format(i,A))\n",
    "    y=input()\n",
    "    B.append(int(y))\n",
    "    print(\"B({0})={1}\".format(i,B))\n",
    "print(\"A dizisinin elemanları= {0}\".format(A))\n",
    "print(\"B dizisinin elemanları= {0}\".format(B))\n",
    "c=[]\n",
    "#oluşturulan dizilerin c dizisinde toplanması\n",
    "c=A+B\n",
    "print(c)"
   ]
  },
  {
   "cell_type": "markdown",
   "id": "f0edd9a0",
   "metadata": {},
   "source": [
    "**705.5** N elemanlı A ve B dizilerininin elemanlarını toplayarak C dizisini oluşturan program"
   ]
  },
  {
   "cell_type": "code",
   "execution_count": 64,
   "id": "04fcaa55",
   "metadata": {},
   "outputs": [
    {
     "name": "stdout",
     "output_type": "stream",
     "text": [
      "N= 2\n",
      "1\n",
      "A(0)=[1]\n",
      "2\n",
      "B(0)=[2]\n",
      "3\n",
      "A(1)=[1, 3]\n",
      "4\n",
      "B(1)=[2, 4]\n",
      "A dizisinin elemanları= [1, 3]\n",
      "B dizisinin elemanları= [2, 4]\n",
      "[1, 3, 2, 4]\n"
     ]
    }
   ],
   "source": [
    "# a ve b dizilerinin oluşturulup ekrana yazdırılması\n",
    "#oluşturulan dizilerin c dizisinde toplanması\n",
    "N=int(input(\"N= \"))\n",
    "\n",
    "A=[]\n",
    "B=[]\n",
    "c=[]\n",
    "for i in range(0,N,1):\n",
    "    x=input()\n",
    "    A.append(int(x))\n",
    "    print(\"A({0})={1}\".format(i,A))\n",
    "    y=input()\n",
    "    B.append(int(y))\n",
    "    print(\"B({0})={1}\".format(i,B))\n",
    "print(\"A dizisinin elemanları= {0}\".format(A))\n",
    "print(\"B dizisinin elemanları= {0}\".format(B))\n",
    "\n",
    "#oluşturulan dizilerin elemanlarının c dizisine toplanması\n",
    "c=A+B\n",
    "z=0\n",
    "for k in c:\n",
    "    z=k+z\n",
    "print(c)"
   ]
  },
  {
   "cell_type": "code",
   "execution_count": null,
   "id": "62bf8f2d",
   "metadata": {},
   "outputs": [],
   "source": []
  }
 ],
 "metadata": {
  "kernelspec": {
   "display_name": "Python 3 (ipykernel)",
   "language": "python",
   "name": "python3"
  },
  "language_info": {
   "codemirror_mode": {
    "name": "ipython",
    "version": 3
   },
   "file_extension": ".py",
   "mimetype": "text/x-python",
   "name": "python",
   "nbconvert_exporter": "python",
   "pygments_lexer": "ipython3",
   "version": "3.9.7"
  }
 },
 "nbformat": 4,
 "nbformat_minor": 5
}
