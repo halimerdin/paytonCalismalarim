{
 "cells": [
  {
   "cell_type": "code",
   "execution_count": 2,
   "id": "3085dc1b",
   "metadata": {},
   "outputs": [
    {
     "ename": "IndexError",
     "evalue": "list index out of range",
     "output_type": "error",
     "traceback": [
      "\u001b[1;31m---------------------------------------------------------------------------\u001b[0m",
      "\u001b[1;31mIndexError\u001b[0m                                Traceback (most recent call last)",
      "\u001b[1;32m~\\AppData\\Local\\Temp/ipykernel_21620/1219335708.py\u001b[0m in \u001b[0;36m<module>\u001b[1;34m\u001b[0m\n\u001b[0;32m      1\u001b[0m \u001b[0ma\u001b[0m\u001b[1;33m=\u001b[0m\u001b[1;33m[\u001b[0m\u001b[1;36m1\u001b[0m\u001b[1;33m,\u001b[0m\u001b[1;36m2\u001b[0m\u001b[1;33m,\u001b[0m\u001b[1;36m3\u001b[0m\u001b[1;33m]\u001b[0m\u001b[1;33m\u001b[0m\u001b[1;33m\u001b[0m\u001b[0m\n\u001b[0;32m      2\u001b[0m \u001b[1;33m\u001b[0m\u001b[0m\n\u001b[1;32m----> 3\u001b[1;33m \u001b[0mprint\u001b[0m\u001b[1;33m(\u001b[0m\u001b[0ma\u001b[0m\u001b[1;33m[\u001b[0m\u001b[1;36m3\u001b[0m\u001b[1;33m]\u001b[0m\u001b[1;33m)\u001b[0m\u001b[1;33m\u001b[0m\u001b[1;33m\u001b[0m\u001b[0m\n\u001b[0m",
      "\u001b[1;31mIndexError\u001b[0m: list index out of range"
     ]
    }
   ],
   "source": [
    "a=[1,2,3]\n",
    "\n",
    "print(a[3])"
   ]
  },
  {
   "cell_type": "code",
   "execution_count": 4,
   "id": "0e7867a3",
   "metadata": {},
   "outputs": [
    {
     "ename": "TypeError",
     "evalue": "'tuple' object does not support item assignment",
     "output_type": "error",
     "traceback": [
      "\u001b[1;31m---------------------------------------------------------------------------\u001b[0m",
      "\u001b[1;31mTypeError\u001b[0m                                 Traceback (most recent call last)",
      "\u001b[1;32m~\\AppData\\Local\\Temp/ipykernel_21620/3921086997.py\u001b[0m in \u001b[0;36m<module>\u001b[1;34m\u001b[0m\n\u001b[0;32m      1\u001b[0m \u001b[0mb\u001b[0m\u001b[1;33m=\u001b[0m\u001b[1;33m(\u001b[0m\u001b[1;34m\"a\"\u001b[0m\u001b[1;33m,\u001b[0m\u001b[1;34m\"b\"\u001b[0m\u001b[1;33m,\u001b[0m\u001b[1;34m\"c\"\u001b[0m\u001b[1;33m)\u001b[0m\u001b[1;33m\u001b[0m\u001b[1;33m\u001b[0m\u001b[0m\n\u001b[1;32m----> 2\u001b[1;33m \u001b[0mb\u001b[0m\u001b[1;33m[\u001b[0m\u001b[1;36m0\u001b[0m\u001b[1;33m]\u001b[0m\u001b[1;33m=\u001b[0m\u001b[1;34m\"r\"\u001b[0m\u001b[1;33m\u001b[0m\u001b[1;33m\u001b[0m\u001b[0m\n\u001b[0m\u001b[0;32m      3\u001b[0m \u001b[0mb\u001b[0m\u001b[1;33m\u001b[0m\u001b[1;33m\u001b[0m\u001b[0m\n",
      "\u001b[1;31mTypeError\u001b[0m: 'tuple' object does not support item assignment"
     ]
    }
   ],
   "source": [
    "b=(\"a\",\"b\",\"c\")\n",
    "b[0]=\"r\"\n",
    "print"
   ]
  },
  {
   "cell_type": "code",
   "execution_count": 5,
   "id": "18bdf1e1",
   "metadata": {},
   "outputs": [
    {
     "name": "stdout",
     "output_type": "stream",
     "text": [
      "Birinci Sayı:4\n",
      "İkinci Sayı:3\n",
      "Üçüncü Sayı:2\n",
      "Toplamları: 432\n"
     ]
    }
   ],
   "source": [
    "a = input(\"Birinci Sayı:\")\n",
    "b = input(\"İkinci Sayı:\")\n",
    "c = input(\"Üçüncü Sayı:\")\n",
    "print(\"Toplamları:\",a+b+c)"
   ]
  },
  {
   "cell_type": "code",
   "execution_count": 7,
   "id": "c8046d0a",
   "metadata": {},
   "outputs": [
    {
     "data": {
      "text/plain": [
       "True"
      ]
     },
     "execution_count": 7,
     "metadata": {},
     "output_type": "execute_result"
    }
   ],
   "source": [
    "\"a\"<\"bb\""
   ]
  },
  {
   "cell_type": "markdown",
   "id": "ae850f92",
   "metadata": {},
   "source": [
    "### koşullu durumlar programlama ödevi"
   ]
  },
  {
   "cell_type": "markdown",
   "id": "9fdb1cfc",
   "metadata": {},
   "source": [
    "Kullanıcıdan alınan boy ve kilo değerlerine göre beden kitle indeksini hesaplayın ve şu kurallara göre ekrana şu yazıları yazdırın.\n",
    "\n",
    " Beden Kitle İndeksi: Kilo / Boy(m) *  Boy(m)\n",
    " \n",
    " BKİ 18.5'un altındaysa -------> Zayıf\n",
    "\n",
    " BKİ 18.5 ile 25 arasındaysa ------> Normal\n",
    "\n",
    " BKİ 25 ile 30 arasındaysa --------> Fazla Kilolu\n",
    "\n",
    " BKİ 30'un üstündeyse -------------> Obez"
   ]
  },
  {
   "cell_type": "code",
   "execution_count": 11,
   "id": "fe5db8d8",
   "metadata": {},
   "outputs": [
    {
     "name": "stdout",
     "output_type": "stream",
     "text": [
      "boyunuz(m): 1.90\n",
      "kilonuz: 85\n",
      "23.545706371191137\n",
      "normal\n"
     ]
    }
   ],
   "source": [
    "boy=eval(input(\"boyunuz(m): \"))\n",
    "kilo=eval(input(\"kilonuz: \"))\n",
    "bki=kilo/boy**2\n",
    "print(bki)\n",
    "if(bki<18.5):\n",
    "    print(\"zayıf\")\n",
    "elif(bki>18.5 and bki<25):\n",
    "    print(\"normal\")\n",
    "elif(bki>25 and bki<30):\n",
    "    print(\"fazla kilolu\")\n",
    "else:\n",
    "    print(obez)"
   ]
  },
  {
   "cell_type": "markdown",
   "id": "38343bbc",
   "metadata": {},
   "source": [
    "Problem 2\n",
    "\n",
    "Kullanıcıdan 3 tane sayı alın ve en büyük sayıyı ekrana yazdırın."
   ]
  },
  {
   "cell_type": "code",
   "execution_count": 12,
   "id": "fcbd8c68",
   "metadata": {},
   "outputs": [
    {
     "name": "stdout",
     "output_type": "stream",
     "text": [
      "birinci sayı: 1\n",
      "ikinci sayı: 2\n",
      "üçüncü sayı: 3\n",
      "3\n"
     ]
    }
   ],
   "source": [
    "a=eval(input(\"birinci sayı: \"))\n",
    "b=eval(input(\"ikinci sayı: \"))\n",
    "c=eval(input(\"üçüncü sayı: \"))\n",
    "\n",
    "if(a>b and a>c):\n",
    "    print(a)\n",
    "elif(b>a and b>c):\n",
    "    print(b)\n",
    "elif(c>a and c>b):\n",
    "    print(c)"
   ]
  },
  {
   "cell_type": "code",
   "execution_count": 15,
   "id": "6fa90728",
   "metadata": {},
   "outputs": [
    {
     "name": "stdout",
     "output_type": "stream",
     "text": [
      "2\n",
      "1\n",
      "10\n",
      "2\n",
      "23\n",
      "1\n",
      "56\n",
      "3\n",
      "28\n"
     ]
    }
   ],
   "source": [
    "liste = [2,1,10,2,23,1,56,3]\n",
    " \n",
    "total = 0\n",
    "for i in liste:\n",
    "    print(i)\n",
    "    if (not (i % 2 == 0)):\n",
    "        total += i\n",
    " \n",
    "print(total)"
   ]
  },
  {
   "cell_type": "markdown",
   "id": "bc409c3e",
   "metadata": {},
   "source": [
    "### range() fonksiyonu\n",
    "\n",
    "bu fonksiyon ile başlangıcı adım sayısı ve bitişi belli olan bir sayı dizisi oluşturur.\n",
    "\n",
    "**range(baslangıç,bitiş,adım)** olarak tanımlanır. default olarak adım 1'e eşittir. Ayrıca başlangıç default olarak 0'a eşittir.\n",
    "\n",
    "fonksiyonun çıktısını yazdırmak için fr döngüsü kullanılabilir."
   ]
  },
  {
   "cell_type": "code",
   "execution_count": 18,
   "id": "fb1ed802",
   "metadata": {},
   "outputs": [
    {
     "name": "stdout",
     "output_type": "stream",
     "text": [
      "0\n",
      "1\n",
      "2\n",
      "3\n",
      "4\n",
      "5\n"
     ]
    }
   ],
   "source": [
    "x=range(6)\n",
    "for n in x:\n",
    "    print(n)"
   ]
  },
  {
   "cell_type": "markdown",
   "id": "267424fe",
   "metadata": {},
   "source": [
    "yada yazdırma işlemi için:"
   ]
  },
  {
   "cell_type": "code",
   "execution_count": 19,
   "id": "08b80c92",
   "metadata": {},
   "outputs": [
    {
     "name": "stdout",
     "output_type": "stream",
     "text": [
      "0 1 2 3 4 5\n"
     ]
    }
   ],
   "source": [
    "x=range(6)\n",
    "print(*x)"
   ]
  },
  {
   "cell_type": "markdown",
   "id": "7a961430",
   "metadata": {},
   "source": [
    "kullanılması gerekmektedir."
   ]
  },
  {
   "cell_type": "code",
   "execution_count": 20,
   "id": "d7ac2afd",
   "metadata": {},
   "outputs": [
    {
     "name": "stdout",
     "output_type": "stream",
     "text": [
      "0 2 4 6 8 10 12 14 16 18 20 22 24 26 28 30 32 34 36 38 40 42 44 46 48 50 52 54 56 58 60 62 64 66 68 70 72 74 76 78 80 82 84 86 88 90 92 94 96 98\n"
     ]
    }
   ],
   "source": [
    "print(*range(0,100,2))"
   ]
  },
  {
   "cell_type": "code",
   "execution_count": 21,
   "id": "53a2f44a",
   "metadata": {},
   "outputs": [
    {
     "name": "stdout",
     "output_type": "stream",
     "text": [
      "20 19 18 17 16 15 14 13 12 11 10 9 8 7 6 5 4 3 2 1\n"
     ]
    }
   ],
   "source": [
    "print(*range(20,0,-1))"
   ]
  },
  {
   "cell_type": "code",
   "execution_count": 24,
   "id": "717f35ae",
   "metadata": {},
   "outputs": [
    {
     "name": "stdout",
     "output_type": "stream",
     "text": [
      "\n",
      "-*\n",
      "-*-*\n",
      "-*-*-*\n",
      "-*-*-*-*\n",
      "-*-*-*-*-*\n",
      "-*-*-*-*-*-*\n",
      "-*-*-*-*-*-*-*\n",
      "-*-*-*-*-*-*-*-*\n",
      "-*-*-*-*-*-*-*-*-*\n",
      "-*-*-*-*-*-*-*-*-*-*\n",
      "-*-*-*-*-*-*-*-*-*-*-*\n",
      "-*-*-*-*-*-*-*-*-*-*-*-*\n",
      "-*-*-*-*-*-*-*-*-*-*-*-*-*\n",
      "-*-*-*-*-*-*-*-*-*-*-*-*-*-*\n",
      "-*-*-*-*-*-*-*-*-*-*-*-*-*-*-*\n",
      "-*-*-*-*-*-*-*-*-*-*-*-*-*-*-*-*\n",
      "-*-*-*-*-*-*-*-*-*-*-*-*-*-*-*-*-*\n",
      "-*-*-*-*-*-*-*-*-*-*-*-*-*-*-*-*-*-*\n",
      "-*-*-*-*-*-*-*-*-*-*-*-*-*-*-*-*-*-*-*\n",
      "-*-*-*-*-*-*-*-*-*-*-*-*-*-*-*-*-*-*-*-*\n",
      "-*-*-*-*-*-*-*-*-*-*-*-*-*-*-*-*-*-*-*-*-*\n",
      "-*-*-*-*-*-*-*-*-*-*-*-*-*-*-*-*-*-*-*-*-*-*\n",
      "-*-*-*-*-*-*-*-*-*-*-*-*-*-*-*-*-*-*-*-*-*-*-*\n",
      "-*-*-*-*-*-*-*-*-*-*-*-*-*-*-*-*-*-*-*-*-*-*-*-*\n"
     ]
    }
   ],
   "source": [
    "for i in range(0,25):\n",
    "    print(\"-*\"*i)"
   ]
  },
  {
   "cell_type": "markdown",
   "id": "ae00a0d4",
   "metadata": {},
   "source": [
    "### döngülerde kullanılan break ve continue\n",
    "\n",
    "# break\n",
    "\n",
    "dögünün herhangi bir yerinde herhangi bir zamanda kullanılabilir\n",
    "\n",
    "döngü herhangi bir yerinde herhangi bir zamanda "
   ]
  },
  {
   "cell_type": "markdown",
   "id": "649c4ee0",
   "metadata": {},
   "source": [
    "### List comprehension\n",
    "\n",
    "bir listeden başka bir liste oluşturmak ve üretmek için kullanılır"
   ]
  },
  {
   "cell_type": "code",
   "execution_count": 2,
   "id": "70813249",
   "metadata": {},
   "outputs": [
    {
     "name": "stdout",
     "output_type": "stream",
     "text": [
      "[1, 2, 3, 4, 5]\n"
     ]
    }
   ],
   "source": [
    "liste1=[1,2,3,4,5]\n",
    "liste2 =[]\n",
    "\n",
    "for i in liste1:\n",
    "    liste2.append(i)\n",
    "print(liste2)"
   ]
  },
  {
   "cell_type": "markdown",
   "id": "713d61d6",
   "metadata": {},
   "source": [
    "yukarıdaki kodda liste 1 deki her bir eleman lsite 2 ye **append** komutayula atandı. \n",
    "\n",
    "bu yöntem uzun olan yöntemi. **List comprehension** daha kısa olan yontemi"
   ]
  },
  {
   "cell_type": "code",
   "execution_count": 5,
   "id": "4f4d1e10",
   "metadata": {},
   "outputs": [
    {
     "name": "stdout",
     "output_type": "stream",
     "text": [
      "[1, 2, 3, 4, 5]\n"
     ]
    }
   ],
   "source": [
    "liste3=[1,2,3,4,5]\n",
    "liste4=[i for i in liste3]\n",
    "print(liste4)"
   ]
  },
  {
   "cell_type": "code",
   "execution_count": 6,
   "id": "a8204a7e",
   "metadata": {},
   "outputs": [
    {
     "name": "stdout",
     "output_type": "stream",
     "text": [
      "[1, 4, 9, 16, 25]\n"
     ]
    }
   ],
   "source": [
    "#liste içerisindeki değerlerin karesini alan program\n",
    "liste3=[1,2,3,4,5]\n",
    "liste4=[i**2 for i in liste3]\n",
    "print(liste4)"
   ]
  },
  {
   "cell_type": "code",
   "execution_count": 7,
   "id": "5aebc824",
   "metadata": {},
   "outputs": [
    {
     "name": "stdout",
     "output_type": "stream",
     "text": [
      "[1.0, 1.4142135623730951, 1.7320508075688772, 2.0, 2.23606797749979]\n"
     ]
    }
   ],
   "source": [
    "import math as mt\n",
    "liste3=[1,2,3,4,5]\n",
    "liste4=[mt.sqrt(i) for i in liste3]\n",
    "print(liste4)"
   ]
  },
  {
   "cell_type": "code",
   "execution_count": 16,
   "id": "fd998455",
   "metadata": {},
   "outputs": [
    {
     "name": "stdout",
     "output_type": "stream",
     "text": [
      "[(1, 2), (3, 4), (5, 6)]\n"
     ]
    }
   ],
   "source": [
    "liste=[(1,2),(3,4),(5,6)]\n",
    "liste1=[]\n",
    "for i in liste:\n",
    "    liste1.append(i)\n",
    "print(liste1)"
   ]
  },
  {
   "cell_type": "code",
   "execution_count": 20,
   "id": "1a35f235",
   "metadata": {},
   "outputs": [
    {
     "name": "stdout",
     "output_type": "stream",
     "text": [
      "[2, 12, 30]\n"
     ]
    }
   ],
   "source": [
    "list=[(1,2),(3,4),(5,6)]\n",
    "list1=[i*j for i,j in list]#i,j ile liste üzerinde geziliyor\n",
    "print(list1)"
   ]
  },
  {
   "cell_type": "code",
   "execution_count": 21,
   "id": "4d739931",
   "metadata": {},
   "outputs": [],
   "source": [
    "s=\"python\"\n",
    "list1=[i*3 for i in s]"
   ]
  },
  {
   "cell_type": "code",
   "execution_count": 22,
   "id": "cc7f5e62",
   "metadata": {},
   "outputs": [
    {
     "name": "stdout",
     "output_type": "stream",
     "text": [
      "['ppp', 'yyy', 'ttt', 'hhh', 'ooo', 'nnn']\n"
     ]
    }
   ],
   "source": [
    "print(list1)"
   ]
  },
  {
   "cell_type": "markdown",
   "id": "b8a4f570",
   "metadata": {},
   "source": [
    "list=[[1,2,3],[4,5,6,7,8],[9,10,11,12,13,14,15]]\n",
    "\n",
    "#new_list=[1,2,3,4,5,6,7,8,9,10,11,12,13,14,15]\n",
    "\n",
    "şeklinde bir listeye çevirmek için\n"
   ]
  },
  {
   "cell_type": "code",
   "execution_count": 23,
   "id": "d2990b22",
   "metadata": {},
   "outputs": [
    {
     "name": "stdout",
     "output_type": "stream",
     "text": [
      "[1, 2, 3]\n",
      "[4, 5, 6, 7, 8]\n",
      "[9, 10, 11, 12, 13, 14, 15]\n"
     ]
    }
   ],
   "source": [
    "list=[[1,2,3],[4,5,6,7,8],[9,10,11,12,13,14,15]]\n",
    "\n",
    "for i in list:\n",
    "    print(i)"
   ]
  },
  {
   "cell_type": "code",
   "execution_count": 29,
   "id": "4558d584",
   "metadata": {},
   "outputs": [
    {
     "name": "stdout",
     "output_type": "stream",
     "text": [
      "1\n",
      "2\n",
      "3\n",
      "4\n",
      "5\n",
      "6\n",
      "7\n",
      "8\n",
      "9\n",
      "10\n",
      "11\n",
      "12\n",
      "13\n",
      "14\n",
      "15\n"
     ]
    }
   ],
   "source": [
    "list=[[1,2,3],[4,5,6,7,8],[9,10,11,12,13,14,15]]\n",
    "\n",
    "for i in list:\n",
    "    for j in i:#döngüyü i üzerinde gezdirmek için çünkü i listeleri ifade eder\n",
    "        print(j)\n",
    "    #print(i)"
   ]
  },
  {
   "cell_type": "code",
   "execution_count": 30,
   "id": "1bdffd95",
   "metadata": {},
   "outputs": [
    {
     "name": "stdout",
     "output_type": "stream",
     "text": [
      "[1, 2, 3, 4, 5, 6, 7, 8, 9, 10, 11, 12, 13, 14, 15]\n"
     ]
    }
   ],
   "source": [
    "list=[[1,2,3],[4,5,6,7,8],[9,10,11,12,13,14,15]]\n",
    "newList=[]\n",
    "for i in list:\n",
    "    for j in i:#döngüyü i üzerinde gezdirmek için çünkü i listeleri ifade eder\n",
    "        newList.append(j)\n",
    "print(newList)"
   ]
  },
  {
   "cell_type": "code",
   "execution_count": 32,
   "id": "a60dfab0",
   "metadata": {},
   "outputs": [
    {
     "name": "stdout",
     "output_type": "stream",
     "text": [
      "[1, 2, 3, 4, 5, 6]\n"
     ]
    }
   ],
   "source": [
    "liste=[(1,2),(3,4),(5,6)]\n",
    "liste1=[]\n",
    "for i in liste:\n",
    "    for j in i:\n",
    "        liste1.append(j)\n",
    "print(liste1)"
   ]
  },
  {
   "cell_type": "markdown",
   "id": "fdc57d4f",
   "metadata": {},
   "source": [
    "**yukarıdaki iki örneğin list comprehension ile yapılması**"
   ]
  },
  {
   "cell_type": "code",
   "execution_count": 34,
   "id": "ecc89e04",
   "metadata": {},
   "outputs": [
    {
     "name": "stdout",
     "output_type": "stream",
     "text": [
      "[1, 2, 3, 4, 5, 6, 7, 8, 9, 10, 11, 12, 13, 14, 15]\n"
     ]
    }
   ],
   "source": [
    "list1=[[1,2,3],[4,5,6,7,8],[9,10,11,12,13,14,15]]\n",
    "newList=[x for i in list1 for x in i]\n",
    "print(newList)"
   ]
  },
  {
   "cell_type": "markdown",
   "id": "564af533",
   "metadata": {},
   "source": [
    "# fibonacci sayısı üretimi"
   ]
  },
  {
   "cell_type": "code",
   "execution_count": 43,
   "id": "6c59cf5b",
   "metadata": {},
   "outputs": [
    {
     "name": "stdout",
     "output_type": "stream",
     "text": [
      "c:  0 b:  2 a:  1\n",
      "*******\n",
      "c:  3 b:  3 a:  3\n",
      "c:  3 b:  3 a:  3\n",
      "*******\n",
      "c:  6 b:  6 a:  6\n",
      "c:  6 b:  6 a:  6\n",
      "*******\n",
      "c:  12 b:  12 a:  12\n",
      "c:  12 b:  12 a:  12\n",
      "*******\n",
      "c:  24 b:  24 a:  24\n",
      "c:  24 b:  24 a:  24\n",
      "*******\n",
      "c:  48 b:  48 a:  48\n",
      "[1, 2, 3, 6, 12, 24, 48]\n"
     ]
    }
   ],
   "source": [
    "#YANLIŞ YAPILIRSA\n",
    "a=1\n",
    "b=2\n",
    "c=0\n",
    "fibonacci=[a,b]\n",
    "for i in range(5): \n",
    "    print(\"c: \",c,\"b: \",b,\"a: \",a)\n",
    "    c=a+b\n",
    "    b=c\n",
    "    a=b\n",
    "    print(\"*******\")\n",
    "    print(\"c: \",c,\"b: \",b,\"a: \",a)\n",
    "    fibonacci.append(c)\n",
    "print(fibonacci)"
   ]
  },
  {
   "cell_type": "code",
   "execution_count": 42,
   "id": "e91589e6",
   "metadata": {},
   "outputs": [
    {
     "name": "stdout",
     "output_type": "stream",
     "text": [
      "c:  0 b:  1 a:  1\n",
      "*******\n",
      "c:  2 b:  2 a:  1\n",
      "c:  2 b:  2 a:  1\n",
      "*******\n",
      "c:  3 b:  3 a:  2\n",
      "c:  3 b:  3 a:  2\n",
      "*******\n",
      "c:  5 b:  5 a:  3\n",
      "c:  5 b:  5 a:  3\n",
      "*******\n",
      "c:  8 b:  8 a:  5\n",
      "c:  8 b:  8 a:  5\n",
      "*******\n",
      "c:  13 b:  13 a:  8\n",
      "c:  13 b:  13 a:  8\n",
      "*******\n",
      "c:  21 b:  21 a:  13\n",
      "c:  21 b:  21 a:  13\n",
      "*******\n",
      "c:  34 b:  34 a:  21\n",
      "c:  34 b:  34 a:  21\n",
      "*******\n",
      "c:  55 b:  55 a:  34\n",
      "c:  55 b:  55 a:  34\n",
      "*******\n",
      "c:  89 b:  89 a:  55\n",
      "c:  89 b:  89 a:  55\n",
      "*******\n",
      "c:  144 b:  144 a:  89\n",
      "[1, 1, 2, 3, 5, 8, 13, 21, 34, 55, 89, 144]\n"
     ]
    }
   ],
   "source": [
    "#UZUN YÖNTEM\n",
    "a=1\n",
    "b=1\n",
    "c=0\n",
    "fibonacci=[a,b]\n",
    "for i in range(10): \n",
    "    print(\"c: \",c,\"b: \",b,\"a: \",a)\n",
    "    c=a+b\n",
    "    a=b\n",
    "    b=c\n",
    "    print(\"*******\")\n",
    "    print(\"c: \",c,\"b: \",b,\"a: \",a)\n",
    "    fibonacci.append(c)\n",
    "print(fibonacci)"
   ]
  },
  {
   "cell_type": "code",
   "execution_count": 41,
   "id": "2d8c87ce",
   "metadata": {},
   "outputs": [
    {
     "name": "stdout",
     "output_type": "stream",
     "text": [
      "[1, 1, 2, 3, 5, 8, 13, 21, 34, 55, 89, 144, 233, 377, 610, 987, 1597, 2584, 4181, 6765, 10946, 17711]\n"
     ]
    }
   ],
   "source": [
    "#KISA YÖNTEM\n",
    "a=1\n",
    "b=1\n",
    "fibonacci=[a,b]\n",
    "for i in range(20): \n",
    "    a,b=b,a+b\n",
    "    fibonacci.append(b)\n",
    "print(fibonacci)"
   ]
  },
  {
   "cell_type": "markdown",
   "id": "bdbd37ff",
   "metadata": {},
   "source": [
    "### kullanıcıdan girilen bir sayının mükemmel olup olmadığını bulan program\n",
    "\n",
    "mükemmel sayılarda bir sayının kendi hariç bölenlerinin toplamı kendine eşit olması durumu örn. 6=1+2+3\n",
    "\n",
    "tam bölme işlemi için modu 0 mı değil mi diye bakılır\n"
   ]
  },
  {
   "cell_type": "code",
   "execution_count": 40,
   "id": "5ee65d7e",
   "metadata": {},
   "outputs": [
    {
     "name": "stdout",
     "output_type": "stream",
     "text": [
      "enter an integer: 28\n",
      "girilen sayı 28 mükemmel bir sayı\n",
      "[1, 2, 4, 7, 14]\n"
     ]
    }
   ],
   "source": [
    "a=int(input(\"enter an integer: \"))\n",
    "b=[]#mükemmel sayının tam bölenleri\n",
    "c=0\n",
    "for i in range(1,a):\n",
    "    if(a%i==0):\n",
    "        #print(i)\n",
    "        c=c+i\n",
    "        b.append(i)\n",
    "if(c==a):\n",
    "    print(\"girilen sayı {0} mükemmel bir sayı\".format(a))\n",
    "    print(b)\n",
    "else:\n",
    "    print(\"girilen sayı {0} mükemmel sayı değil\".format(a))\n",
    "    print(b)   \n",
    "#"
   ]
  },
  {
   "cell_type": "markdown",
   "id": "36ca04ca",
   "metadata": {},
   "source": [
    "### Kullanıcının girdiği sayının armstrong sayısı olup olmadığını bulan program\n",
    "\n",
    "Örnek olarak, Bir sayı eğer 4 basamaklı ise ve oluşturan rakamlardan herbirinin 4. kuvvetinin toplamı( 3 basamaklı sayılar için 3.kuvveti ) o sayıya eşitse bu sayıya \"Armstrong\" sayısı denir.\n",
    "\n",
    "Örnek olarak : 1634 = 1^4 + 6^4 + 3^4 + 4^4"
   ]
  },
  {
   "cell_type": "code",
   "execution_count": 36,
   "id": "463facc6",
   "metadata": {},
   "outputs": [
    {
     "name": "stdout",
     "output_type": "stream",
     "text": [
      "bir sayı giriniz: 1234\n",
      "girilen 1234 sayısı 4 basamaklı\n"
     ]
    }
   ],
   "source": [
    "a=(int(input(\"bir sayı giriniz: \")))\n",
    "if(a//1000!=0):\n",
    "    print(\"girilen {0} sayısı 4 basamaklı\".format(a))\n",
    "elif(a//100!=0):\n",
    "    print(\"girilen {0} sayısı 3 basamaklı\".format(a))\n",
    "elif(a//10!=0):\n",
    "    print(\"girilen {0} sayısı 2 basamaklı\".format(a))\n",
    "else:\n",
    "    print(\"girilen {0} sayısı 1 basamaklı\".format(a))"
   ]
  },
  {
   "cell_type": "code",
   "execution_count": 37,
   "id": "a0ced5db",
   "metadata": {},
   "outputs": [
    {
     "name": "stdout",
     "output_type": "stream",
     "text": [
      "bir sayı giriniz: 1234\n",
      "girilen sayı 4 basamaklıdır.\n"
     ]
    }
   ],
   "source": [
    "a=(int(input(\"bir sayı giriniz: \")))\n",
    "count=0\n",
    "\n",
    "while a!=0:\n",
    "    a=a//10\n",
    "    count+=1\n",
    "print(\"girilen sayı {0} basamaklıdır.\".format(count))"
   ]
  },
  {
   "cell_type": "code",
   "execution_count": 38,
   "id": "7a143c2c",
   "metadata": {},
   "outputs": [
    {
     "name": "stdout",
     "output_type": "stream",
     "text": [
      "bir sayı giriniz: 1234\n",
      "girilen sayı 4 basamaklıdır.\n"
     ]
    }
   ],
   "source": [
    "a=(int(input(\"bir sayı giriniz: \")))\n",
    "b=len(str(a))\n",
    "print(\"girilen sayı {0} basamaklıdır.\".format(b))"
   ]
  },
  {
   "cell_type": "code",
   "execution_count": 9,
   "id": "01acdd2d",
   "metadata": {},
   "outputs": [
    {
     "name": "stdout",
     "output_type": "stream",
     "text": [
      "bir sayı giriniz: 125\n",
      "girilen sayı 3 basamaklıdır.\n"
     ]
    }
   ],
   "source": [
    "a=input(\"bir sayı giriniz: \")\n",
    "b=len(a)\n",
    "print(\"girilen sayı {0} basamaklıdır.\".format(b))"
   ]
  },
  {
   "cell_type": "code",
   "execution_count": 11,
   "id": "7f42a3e4",
   "metadata": {},
   "outputs": [
    {
     "name": "stdout",
     "output_type": "stream",
     "text": [
      "bir sayma sayısı giriniz: 1634\n",
      "163 4\n",
      "16 3\n",
      "1 6\n",
      "0 1\n",
      "girilen 1634 sayısı Armstrong sayısıdır.\n"
     ]
    }
   ],
   "source": [
    "\"\"\"ARMSTRONG SAYISI TESPİTİ\n",
    "---------YÖNTEM 1----------\n",
    "\"\"\"\n",
    "def basamakSaydirma(x):\n",
    "    count=0\n",
    "    while x!=0:\n",
    "        x//=10\n",
    "        count+=1\n",
    "    return count\n",
    "\n",
    "toplam=0\n",
    "basamak=0\n",
    "aOld=int(input(\"bir sayma sayısı giriniz: \"))\n",
    "a=aOld\n",
    "basamakSayisi=basamakSaydirma(aOld)\n",
    "while (aOld>0):\n",
    "    basamak=aOld%10\n",
    "    toplam+=basamak**basamakSayisi\n",
    "    aOld//=10\n",
    "    #print(aOld,basamak)\n",
    "\n",
    "if(toplam==a):\n",
    "    print(\"girilen {0} sayısı Armstrong sayısıdır.\".format(a))\n",
    "else:\n",
    "    print(\"girilen {0} sayısı Armstrong sayısı değildir.\".format(a))"
   ]
  },
  {
   "cell_type": "code",
   "execution_count": 12,
   "id": "5f51caf1",
   "metadata": {},
   "outputs": [
    {
     "name": "stdout",
     "output_type": "stream",
     "text": [
      "bir sayı giriniz: 1634\n",
      "1634\n",
      "girilen 1634 sayisi Armstrong Sayısıdır\n"
     ]
    }
   ],
   "source": [
    "\"\"\"ARMSTRONG SAYISI TESPİTİ\n",
    "---------YÖNTEM 2----------\n",
    "\"\"\"\n",
    "a=input(\"bir sayı giriniz: \")\n",
    "basamakSayisi=len(a)\n",
    "sayiOld=int(a)\n",
    "sayi=sayiOld\n",
    "basamak=0\n",
    "toplam=0\n",
    "while(sayiOld>0):\n",
    "    basamak=sayiOld%10\n",
    "    toplam+=basamak**basamakSayisi\n",
    "    sayiOld//=10\n",
    "print(toplam)\n",
    "if(toplam==sayi):\n",
    "    print(\"girilen {0} sayisi Armstrong Sayısıdır\".format(sayi))\n",
    "else:\n",
    "    print(\"girilen {0} sayisi Armstrong Sayısı değildir\".format(sayi))"
   ]
  },
  {
   "cell_type": "markdown",
   "id": "41cda75f",
   "metadata": {},
   "source": [
    "### Problem 3\n",
    "\n",
    "1'den 10'kadar olan sayılarla ekrana çarpım tablosu bastırmaya çalışın.\n",
    "\n",
    "***İpucu: İç içe 2 tane for döngüsü kullanın. Aynı zamanda sayıları range() fonksiyonunu kullanarak elde edin.***"
   ]
  },
  {
   "cell_type": "code",
   "execution_count": 19,
   "id": "27f6c8a6",
   "metadata": {},
   "outputs": [
    {
     "name": "stdout",
     "output_type": "stream",
     "text": [
      "1 x 1 = 1\n",
      "1 x 2 = 2\n",
      "1 x 3 = 3\n",
      "1 x 4 = 4\n",
      "1 x 5 = 5\n",
      "1 x 6 = 6\n",
      "1 x 7 = 7\n",
      "1 x 8 = 8\n",
      "1 x 9 = 9\n",
      "1 x 10 = 10\n",
      "*-----*\n",
      "2 x 1 = 2\n",
      "2 x 2 = 4\n",
      "2 x 3 = 6\n",
      "2 x 4 = 8\n",
      "2 x 5 = 10\n",
      "2 x 6 = 12\n",
      "2 x 7 = 14\n",
      "2 x 8 = 16\n",
      "2 x 9 = 18\n",
      "2 x 10 = 20\n",
      "*-----**-----*\n",
      "3 x 1 = 3\n",
      "3 x 2 = 6\n",
      "3 x 3 = 9\n",
      "3 x 4 = 12\n",
      "3 x 5 = 15\n",
      "3 x 6 = 18\n",
      "3 x 7 = 21\n",
      "3 x 8 = 24\n",
      "3 x 9 = 27\n",
      "3 x 10 = 30\n",
      "*-----**-----**-----*\n",
      "4 x 1 = 4\n",
      "4 x 2 = 8\n",
      "4 x 3 = 12\n",
      "4 x 4 = 16\n",
      "4 x 5 = 20\n",
      "4 x 6 = 24\n",
      "4 x 7 = 28\n",
      "4 x 8 = 32\n",
      "4 x 9 = 36\n",
      "4 x 10 = 40\n",
      "*-----**-----**-----**-----*\n",
      "5 x 1 = 5\n",
      "5 x 2 = 10\n",
      "5 x 3 = 15\n",
      "5 x 4 = 20\n",
      "5 x 5 = 25\n",
      "5 x 6 = 30\n",
      "5 x 7 = 35\n",
      "5 x 8 = 40\n",
      "5 x 9 = 45\n",
      "5 x 10 = 50\n",
      "*-----**-----**-----**-----**-----*\n",
      "6 x 1 = 6\n",
      "6 x 2 = 12\n",
      "6 x 3 = 18\n",
      "6 x 4 = 24\n",
      "6 x 5 = 30\n",
      "6 x 6 = 36\n",
      "6 x 7 = 42\n",
      "6 x 8 = 48\n",
      "6 x 9 = 54\n",
      "6 x 10 = 60\n",
      "*-----**-----**-----**-----**-----**-----*\n",
      "7 x 1 = 7\n",
      "7 x 2 = 14\n",
      "7 x 3 = 21\n",
      "7 x 4 = 28\n",
      "7 x 5 = 35\n",
      "7 x 6 = 42\n",
      "7 x 7 = 49\n",
      "7 x 8 = 56\n",
      "7 x 9 = 63\n",
      "7 x 10 = 70\n",
      "*-----**-----**-----**-----**-----**-----**-----*\n",
      "8 x 1 = 8\n",
      "8 x 2 = 16\n",
      "8 x 3 = 24\n",
      "8 x 4 = 32\n",
      "8 x 5 = 40\n",
      "8 x 6 = 48\n",
      "8 x 7 = 56\n",
      "8 x 8 = 64\n",
      "8 x 9 = 72\n",
      "8 x 10 = 80\n",
      "*-----**-----**-----**-----**-----**-----**-----**-----*\n",
      "9 x 1 = 9\n",
      "9 x 2 = 18\n",
      "9 x 3 = 27\n",
      "9 x 4 = 36\n",
      "9 x 5 = 45\n",
      "9 x 6 = 54\n",
      "9 x 7 = 63\n",
      "9 x 8 = 72\n",
      "9 x 9 = 81\n",
      "9 x 10 = 90\n",
      "*-----**-----**-----**-----**-----**-----**-----**-----**-----*\n",
      "10 x 1 = 10\n",
      "10 x 2 = 20\n",
      "10 x 3 = 30\n",
      "10 x 4 = 40\n",
      "10 x 5 = 50\n",
      "10 x 6 = 60\n",
      "10 x 7 = 70\n",
      "10 x 8 = 80\n",
      "10 x 9 = 90\n",
      "10 x 10 = 100\n",
      "*-----**-----**-----**-----**-----**-----**-----**-----**-----**-----*\n"
     ]
    }
   ],
   "source": [
    "for i in range(1,11):\n",
    "    for j in range(1,11):\n",
    "        c=i*j\n",
    "        print(\"{0} x {1} = {2}\".format(i,j,c))\n",
    "    print(\"*-----*\"*i)"
   ]
  },
  {
   "cell_type": "markdown",
   "id": "71d404ef",
   "metadata": {},
   "source": [
    "### metodlar\n"
   ]
  },
  {
   "cell_type": "code",
   "execution_count": 29,
   "id": "495e7b35",
   "metadata": {},
   "outputs": [],
   "source": [
    "a=[1,2,33,4]"
   ]
  },
  {
   "cell_type": "code",
   "execution_count": 30,
   "id": "a3c808b6",
   "metadata": {},
   "outputs": [
    {
     "data": {
      "text/plain": [
       "list"
      ]
     },
     "execution_count": 30,
     "metadata": {},
     "output_type": "execute_result"
    }
   ],
   "source": [
    "type(a)"
   ]
  },
  {
   "cell_type": "code",
   "execution_count": 31,
   "id": "957a7acf",
   "metadata": {},
   "outputs": [],
   "source": [
    "a.append(\"anan\")"
   ]
  },
  {
   "cell_type": "code",
   "execution_count": 32,
   "id": "8e94da87",
   "metadata": {},
   "outputs": [
    {
     "data": {
      "text/plain": [
       "[1, 2, 33, 4, 'anan']"
      ]
     },
     "execution_count": 32,
     "metadata": {},
     "output_type": "execute_result"
    }
   ],
   "source": [
    "a"
   ]
  },
  {
   "cell_type": "code",
   "execution_count": 33,
   "id": "666f3086",
   "metadata": {},
   "outputs": [
    {
     "data": {
      "text/plain": [
       "'anan'"
      ]
     },
     "execution_count": 33,
     "metadata": {},
     "output_type": "execute_result"
    }
   ],
   "source": [
    "a.pop()"
   ]
  },
  {
   "cell_type": "code",
   "execution_count": 1,
   "id": "9c4a82cf",
   "metadata": {},
   "outputs": [
    {
     "ename": "NameError",
     "evalue": "name 'a' is not defined",
     "output_type": "error",
     "traceback": [
      "\u001b[1;31m---------------------------------------------------------------------------\u001b[0m",
      "\u001b[1;31mNameError\u001b[0m                                 Traceback (most recent call last)",
      "\u001b[1;32m~\\AppData\\Local\\Temp/ipykernel_24520/706763054.py\u001b[0m in \u001b[0;36m<module>\u001b[1;34m\u001b[0m\n\u001b[1;32m----> 1\u001b[1;33m \u001b[0mhelp\u001b[0m\u001b[1;33m(\u001b[0m\u001b[0ma\u001b[0m\u001b[1;33m.\u001b[0m\u001b[0mappend\u001b[0m\u001b[1;33m)\u001b[0m\u001b[1;33m\u001b[0m\u001b[1;33m\u001b[0m\u001b[0m\n\u001b[0m",
      "\u001b[1;31mNameError\u001b[0m: name 'a' is not defined"
     ]
    }
   ],
   "source": [
    "help(a.append)"
   ]
  },
  {
   "cell_type": "code",
   "execution_count": 2,
   "id": "e327a45a",
   "metadata": {},
   "outputs": [
    {
     "name": "stdout",
     "output_type": "stream",
     "text": [
      "24\n"
     ]
    }
   ],
   "source": [
    "def toplama(a,b,c):\n",
    "    return a+b+c\n",
    "def ikiyleCarp(a):\n",
    "    return a*2\n",
    "toplam=toplama(3,4,5)\n",
    "print(ikiyleCarp(toplam))"
   ]
  },
  {
   "cell_type": "markdown",
   "id": "849ca66d",
   "metadata": {},
   "source": [
    "### fonksiyonlarda returnden sonraki hiç bir işlemçalışmaz\n",
    "\n"
   ]
  },
  {
   "cell_type": "code",
   "execution_count": 3,
   "id": "c47bcf37",
   "metadata": {},
   "outputs": [],
   "source": [
    "def xx(a,b):\n",
    "    return a*b\n",
    "    print(a*b)\n",
    "x=xx(3,4)"
   ]
  },
  {
   "cell_type": "code",
   "execution_count": 4,
   "id": "e0a1e7d7",
   "metadata": {},
   "outputs": [
    {
     "name": "stdout",
     "output_type": "stream",
     "text": [
      "12\n"
     ]
    }
   ],
   "source": [
    "def xx(a,b):\n",
    "    print(a*b)\n",
    "    return a*b\n",
    "    \n",
    "x=xx(3,4)"
   ]
  },
  {
   "cell_type": "markdown",
   "id": "4a63d199",
   "metadata": {},
   "source": [
    "### *void* fonksiyonları herhangi bi değer döndürmeyen fonksiyonlar anamına gelir"
   ]
  },
  {
   "cell_type": "markdown",
   "id": "ee557f1f",
   "metadata": {},
   "source": [
    "### fonksiyon parametreleri"
   ]
  },
  {
   "cell_type": "code",
   "execution_count": 2,
   "id": "714af80a",
   "metadata": {},
   "outputs": [
    {
     "name": "stdout",
     "output_type": "stream",
     "text": [
      "ad:  halim Soyad:  erdin No:  201912659013\n",
      "ad:  bilgi yok Soyad:  bilgi yok No:  bilgi yok\n"
     ]
    }
   ],
   "source": [
    "def ogrenciBilgileri(ad=\"bilgi yok\",soyad=\"bilgi yok\",no=\"bilgi yok\"):\n",
    "    print(\"ad: \",ad,\"Soyad: \",soyad,\"No: \",no)\n",
    "ogrenciBilgileri(\"halim\",\"erdin\",201912659013)\n",
    "ogrenciBilgileri()"
   ]
  },
  {
   "cell_type": "code",
   "execution_count": 4,
   "id": "1f7ae5c0",
   "metadata": {},
   "outputs": [
    {
     "name": "stdout",
     "output_type": "stream",
     "text": [
      "ad:  bilgi yok Soyad:  bilgi yok No:  201912659013\n"
     ]
    }
   ],
   "source": [
    "ogrenciBilgileri(no=201912659013)"
   ]
  },
  {
   "cell_type": "markdown",
   "id": "40dcf648",
   "metadata": {},
   "source": [
    "### esnek sayıda değerler\n"
   ]
  },
  {
   "cell_type": "code",
   "execution_count": 5,
   "id": "6616ed40",
   "metadata": {},
   "outputs": [
    {
     "name": "stdout",
     "output_type": "stream",
     "text": [
      "12\n"
     ]
    },
    {
     "ename": "TypeError",
     "evalue": "a() takes 3 positional arguments but 4 were given",
     "output_type": "error",
     "traceback": [
      "\u001b[1;31m---------------------------------------------------------------------------\u001b[0m",
      "\u001b[1;31mTypeError\u001b[0m                                 Traceback (most recent call last)",
      "\u001b[1;32m~\\AppData\\Local\\Temp/ipykernel_11664/960067913.py\u001b[0m in \u001b[0;36m<module>\u001b[1;34m\u001b[0m\n\u001b[0;32m      2\u001b[0m     \u001b[0mprint\u001b[0m\u001b[1;33m(\u001b[0m\u001b[0ma\u001b[0m\u001b[1;33m+\u001b[0m\u001b[0mb\u001b[0m\u001b[1;33m+\u001b[0m\u001b[0mc\u001b[0m\u001b[1;33m)\u001b[0m\u001b[1;33m\u001b[0m\u001b[1;33m\u001b[0m\u001b[0m\n\u001b[0;32m      3\u001b[0m \u001b[0ma\u001b[0m\u001b[1;33m(\u001b[0m\u001b[1;36m3\u001b[0m\u001b[1;33m,\u001b[0m\u001b[1;36m4\u001b[0m\u001b[1;33m,\u001b[0m\u001b[1;36m5\u001b[0m\u001b[1;33m)\u001b[0m\u001b[1;33m\u001b[0m\u001b[1;33m\u001b[0m\u001b[0m\n\u001b[1;32m----> 4\u001b[1;33m \u001b[0ma\u001b[0m\u001b[1;33m(\u001b[0m\u001b[1;36m3\u001b[0m\u001b[1;33m,\u001b[0m\u001b[1;36m4\u001b[0m\u001b[1;33m,\u001b[0m\u001b[1;36m5\u001b[0m\u001b[1;33m,\u001b[0m\u001b[1;36m6\u001b[0m\u001b[1;33m)\u001b[0m\u001b[1;33m\u001b[0m\u001b[1;33m\u001b[0m\u001b[0m\n\u001b[0m",
      "\u001b[1;31mTypeError\u001b[0m: a() takes 3 positional arguments but 4 were given"
     ]
    }
   ],
   "source": [
    "def a(a,b,c):\n",
    "    print(a+b+c)\n",
    "a(3,4,5)\n",
    "a(3,4,5,6)"
   ]
  },
  {
   "cell_type": "code",
   "execution_count": 6,
   "id": "7b4905cd",
   "metadata": {},
   "outputs": [
    {
     "name": "stdout",
     "output_type": "stream",
     "text": [
      "(3, 4, 5)\n"
     ]
    }
   ],
   "source": [
    "def toplama(*a):\n",
    "    print(a)\n",
    "toplama(3,4,5)"
   ]
  },
  {
   "cell_type": "code",
   "execution_count": 7,
   "id": "c4c5ae79",
   "metadata": {},
   "outputs": [],
   "source": [
    "def toplama(*a):\n",
    "    toplam=0\n",
    "    for i in a:#liste olduğu için a esnek değeri üzerinde gezdirmede for kullanıldı\n",
    "        toplam+=i\n",
    "    print(toplam)\n"
   ]
  },
  {
   "cell_type": "code",
   "execution_count": 8,
   "id": "fde29551",
   "metadata": {},
   "outputs": [
    {
     "name": "stdout",
     "output_type": "stream",
     "text": [
      "25\n"
     ]
    }
   ],
   "source": [
    "toplama(3,4,5,6,7)"
   ]
  },
  {
   "cell_type": "markdown",
   "id": "a4fb578e",
   "metadata": {},
   "source": [
    "### global ve yerel değişkenler\n",
    "bir fonksiyon içerisinde oluşturulan her bir değişken yerel değişken olarak adlandırıl ve fonskiyon dışında çağrılamaz\n",
    "\n",
    "fonsiyon dışında oluşturulan değişkenler global değişkenlerdir.\n",
    "\n",
    "fonskiyon içerisinde oluşturulan değişkenleri global olarak kullanmak için değişkenn önüne ***global*** yazılır ve yazım dan sonra değer atamsı yapılır."
   ]
  },
  {
   "cell_type": "code",
   "execution_count": 16,
   "id": "4580baa9",
   "metadata": {},
   "outputs": [
    {
     "name": "stdout",
     "output_type": "stream",
     "text": [
      "10\n",
      "10\n"
     ]
    }
   ],
   "source": [
    "def fonksiyon():\n",
    "    global b\n",
    "    b=10\n",
    "    print(b)\n",
    "    \n",
    "fonksiyon()\n",
    "print(b)"
   ]
  },
  {
   "cell_type": "code",
   "execution_count": 17,
   "id": "b679dcc5",
   "metadata": {},
   "outputs": [
    {
     "ename": "NameError",
     "evalue": "name 's' is not defined",
     "output_type": "error",
     "traceback": [
      "\u001b[1;31m---------------------------------------------------------------------------\u001b[0m",
      "\u001b[1;31mNameError\u001b[0m                                 Traceback (most recent call last)",
      "\u001b[1;32m~\\AppData\\Local\\Temp/ipykernel_11664/4289366208.py\u001b[0m in \u001b[0;36m<module>\u001b[1;34m\u001b[0m\n\u001b[0;32m      1\u001b[0m \u001b[1;32mdef\u001b[0m \u001b[0mfonksiyon\u001b[0m\u001b[1;33m(\u001b[0m\u001b[1;33m)\u001b[0m\u001b[1;33m:\u001b[0m\u001b[1;33m\u001b[0m\u001b[1;33m\u001b[0m\u001b[0m\n\u001b[0;32m      2\u001b[0m     \u001b[0mprint\u001b[0m\u001b[1;33m(\u001b[0m\u001b[0ms\u001b[0m\u001b[1;33m)\u001b[0m\u001b[1;33m\u001b[0m\u001b[1;33m\u001b[0m\u001b[0m\n\u001b[1;32m----> 3\u001b[1;33m \u001b[0mfonksiyon\u001b[0m\u001b[1;33m(\u001b[0m\u001b[1;33m)\u001b[0m\u001b[1;33m\u001b[0m\u001b[1;33m\u001b[0m\u001b[0m\n\u001b[0m\u001b[0;32m      4\u001b[0m \u001b[0ms\u001b[0m\u001b[1;33m=\u001b[0m\u001b[1;34m\"halim\"\u001b[0m\u001b[1;33m\u001b[0m\u001b[1;33m\u001b[0m\u001b[0m\n",
      "\u001b[1;32m~\\AppData\\Local\\Temp/ipykernel_11664/4289366208.py\u001b[0m in \u001b[0;36mfonksiyon\u001b[1;34m()\u001b[0m\n\u001b[0;32m      1\u001b[0m \u001b[1;32mdef\u001b[0m \u001b[0mfonksiyon\u001b[0m\u001b[1;33m(\u001b[0m\u001b[1;33m)\u001b[0m\u001b[1;33m:\u001b[0m\u001b[1;33m\u001b[0m\u001b[1;33m\u001b[0m\u001b[0m\n\u001b[1;32m----> 2\u001b[1;33m     \u001b[0mprint\u001b[0m\u001b[1;33m(\u001b[0m\u001b[0ms\u001b[0m\u001b[1;33m)\u001b[0m\u001b[1;33m\u001b[0m\u001b[1;33m\u001b[0m\u001b[0m\n\u001b[0m\u001b[0;32m      3\u001b[0m \u001b[0mfonksiyon\u001b[0m\u001b[1;33m(\u001b[0m\u001b[1;33m)\u001b[0m\u001b[1;33m\u001b[0m\u001b[1;33m\u001b[0m\u001b[0m\n\u001b[0;32m      4\u001b[0m \u001b[0ms\u001b[0m\u001b[1;33m=\u001b[0m\u001b[1;34m\"halim\"\u001b[0m\u001b[1;33m\u001b[0m\u001b[1;33m\u001b[0m\u001b[0m\n",
      "\u001b[1;31mNameError\u001b[0m: name 's' is not defined"
     ]
    }
   ],
   "source": [
    "def fonksiyon():\n",
    "    print(s)\n",
    "fonksiyon()\n",
    "s=\"halim\""
   ]
  },
  {
   "cell_type": "markdown",
   "id": "04b182ce",
   "metadata": {},
   "source": [
    "yukarıdaki kodun hata vermesinin sebebi fonksiyon çağrılmadan önce bir **s** değişkeninin tanımlanmamış olmasıır."
   ]
  },
  {
   "cell_type": "code",
   "execution_count": 18,
   "id": "54c4657f",
   "metadata": {},
   "outputs": [
    {
     "name": "stdout",
     "output_type": "stream",
     "text": [
      "2\n",
      "10\n"
     ]
    }
   ],
   "source": [
    "c=10\n",
    "def ff():\n",
    "    c=2\n",
    "    print(c)\n",
    "ff()\n",
    "print(c)"
   ]
  },
  {
   "cell_type": "markdown",
   "id": "e4d56457",
   "metadata": {},
   "source": [
    "**globalde ki değişkenin fonksiyon içerisinde kullanılması**"
   ]
  },
  {
   "cell_type": "code",
   "execution_count": 20,
   "id": "a44a0f64",
   "metadata": {},
   "outputs": [
    {
     "name": "stdout",
     "output_type": "stream",
     "text": [
      "3\n",
      "3\n"
     ]
    }
   ],
   "source": [
    "d=5\n",
    "def fg():\n",
    "    global d\n",
    "    d=3\n",
    "    print(d)\n",
    "fg()\n",
    "print(d)"
   ]
  },
  {
   "cell_type": "markdown",
   "id": "e09c3e93",
   "metadata": {},
   "source": [
    "yukarıda global değişkenin değerinin ekranda bastırılmamasının sebebi\n",
    "\n",
    "**fonksiyon içerisinde global d değişkeni oluşutuldu ve bu değişkene 3 değeri atandı bu aşamdan sonra fonksiyondan önce tanımlanan d değerinin bir geçerliliği kalmadı**"
   ]
  },
  {
   "cell_type": "code",
   "execution_count": 22,
   "id": "8c3e59df",
   "metadata": {},
   "outputs": [
    {
     "name": "stdout",
     "output_type": "stream",
     "text": [
      "4\n",
      "4\n"
     ]
    }
   ],
   "source": [
    "if True:\n",
    "    e=4\n",
    "    print(e)\n",
    "print(e)"
   ]
  },
  {
   "cell_type": "markdown",
   "id": "027c0a95",
   "metadata": {},
   "source": [
    "### lambda\n",
    "\n",
    "**etiket = lambda par1,par2,..... : işlem**"
   ]
  },
  {
   "cell_type": "code",
   "execution_count": 24,
   "id": "c3c07c4f",
   "metadata": {},
   "outputs": [
    {
     "data": {
      "text/plain": [
       "[2, 4, 6, 8, 10]"
      ]
     },
     "execution_count": 24,
     "metadata": {},
     "output_type": "execute_result"
    }
   ],
   "source": [
    "liste=[1,2,3,4,5]\n",
    "liste1=[i*2 for i in liste]\n",
    "liste1"
   ]
  },
  {
   "cell_type": "code",
   "execution_count": 26,
   "id": "040c8196",
   "metadata": {},
   "outputs": [
    {
     "name": "stdout",
     "output_type": "stream",
     "text": [
      "6\n"
     ]
    }
   ],
   "source": [
    "def pp(x):\n",
    "    return x*2\n",
    "print(pp(3))"
   ]
  },
  {
   "cell_type": "code",
   "execution_count": 27,
   "id": "96ef0f0f",
   "metadata": {},
   "outputs": [
    {
     "name": "stdout",
     "output_type": "stream",
     "text": [
      "6\n"
     ]
    }
   ],
   "source": [
    "pp = lambda x:x*2\n",
    "print(pp(3))"
   ]
  },
  {
   "cell_type": "code",
   "execution_count": 28,
   "id": "acca9f2c",
   "metadata": {},
   "outputs": [
    {
     "name": "stdout",
     "output_type": "stream",
     "text": [
      "37\n"
     ]
    }
   ],
   "source": [
    "def toplama(x,y,z):\n",
    "    return x+y+z\n",
    "print(toplama(10,15,12))"
   ]
  },
  {
   "cell_type": "code",
   "execution_count": 29,
   "id": "9a2d5853",
   "metadata": {},
   "outputs": [
    {
     "name": "stdout",
     "output_type": "stream",
     "text": [
      "12\n"
     ]
    }
   ],
   "source": [
    "toplama=lambda x,y,z:x+y+z\n",
    "print(toplama(3,4,5))"
   ]
  },
  {
   "cell_type": "code",
   "execution_count": 30,
   "id": "3a845d35",
   "metadata": {},
   "outputs": [
    {
     "name": "stdout",
     "output_type": "stream",
     "text": [
      "milah\n"
     ]
    }
   ],
   "source": [
    "def stringTerCevir(s):\n",
    "    return s[::-1]\n",
    "print(stringTerCevir(\"halim\"))"
   ]
  },
  {
   "cell_type": "code",
   "execution_count": 31,
   "id": "8595c5d8",
   "metadata": {},
   "outputs": [],
   "source": [
    "ters = lambda s:s[::-1]"
   ]
  },
  {
   "cell_type": "code",
   "execution_count": 32,
   "id": "68c2b109",
   "metadata": {},
   "outputs": [
    {
     "name": "stdout",
     "output_type": "stream",
     "text": [
      "milah\n"
     ]
    }
   ],
   "source": [
    "print(ters(\"halim\"))"
   ]
  },
  {
   "cell_type": "code",
   "execution_count": 33,
   "id": "5f099159",
   "metadata": {},
   "outputs": [
    {
     "name": "stdout",
     "output_type": "stream",
     "text": [
      "True\n",
      "False\n"
     ]
    }
   ],
   "source": [
    "#bir sayının çift mi tek mi olduğuna karar veren program\n",
    "def çiftTek(x):\n",
    "    return x%2==0 #eğer bu ifade doğruysa çıkışta True değilse False gelicek\n",
    "print(çiftTek(8))\n",
    "print(çiftTek(7))"
   ]
  },
  {
   "cell_type": "code",
   "execution_count": 35,
   "id": "78c3ec25",
   "metadata": {},
   "outputs": [
    {
     "name": "stdout",
     "output_type": "stream",
     "text": [
      "True\n",
      "False\n"
     ]
    }
   ],
   "source": [
    "ciftTek = lambda x:x%2==0\n",
    "print(ciftTek(6))\n",
    "print(ciftTek(5))"
   ]
  },
  {
   "cell_type": "code",
   "execution_count": 36,
   "id": "9b414e8b",
   "metadata": {},
   "outputs": [
    {
     "name": "stdout",
     "output_type": "stream",
     "text": [
      "False\n"
     ]
    }
   ],
   "source": [
    "print(ciftTek(5))"
   ]
  },
  {
   "cell_type": "markdown",
   "id": "6b50faea",
   "metadata": {},
   "source": [
    "### kodlama egzersizi asal sayı bulma"
   ]
  },
  {
   "cell_type": "code",
   "execution_count": 38,
   "id": "6a7d9642",
   "metadata": {},
   "outputs": [
    {
     "name": "stdout",
     "output_type": "stream",
     "text": [
      "sayı: 6\n",
      "6 asal bir sayı değildir\n"
     ]
    }
   ],
   "source": [
    "def isPrime(num):\n",
    "    if(num==1):\n",
    "        return False\n",
    "    elif(num==2):\n",
    "        return True\n",
    "    else:\n",
    "        for i in range(2,num):# rangein aralığı [2,num)\n",
    "            if(num%i==0):\n",
    "                return False\n",
    "        #for dongusu yani test etme işlemi bittikten sonra\n",
    "        return True\n",
    "    \n",
    "sayı=int(input(\"sayı: \"))\n",
    "if(isPrime(sayı)):\n",
    "    print(sayı,\"asal bir sayıdır\")\n",
    "else:\n",
    "     print(sayı,\"asal bir sayı değildir\")"
   ]
  },
  {
   "cell_type": "code",
   "execution_count": 43,
   "id": "6f7a885a",
   "metadata": {},
   "outputs": [
    {
     "name": "stdout",
     "output_type": "stream",
     "text": [
      "sayı: 5\n",
      "5 asal bir sayıdır\n"
     ]
    }
   ],
   "source": [
    "def isprime(x):\n",
    "    if(x==1):\n",
    "        return False\n",
    "    elif(x==2):\n",
    "        return True\n",
    "    else:\n",
    "        for n in range(2,int(x**0.5)+1):\n",
    "            if(x%n==0):\n",
    "                return False\n",
    "        return True\n",
    "sayı=int(input(\"sayı: \"))\n",
    "if(isprime(sayı)):\n",
    "    print(sayı,\"asal bir sayıdır\")\n",
    "else:\n",
    "     print(sayı,\"asal bir sayı değildir\")"
   ]
  },
  {
   "cell_type": "markdown",
   "id": "0a28385f",
   "metadata": {},
   "source": [
    "### Bir sayının Tam Bölenlerini Bulup bir listeye atma"
   ]
  },
  {
   "cell_type": "code",
   "execution_count": 46,
   "id": "8d7b19e7",
   "metadata": {},
   "outputs": [
    {
     "name": "stdout",
     "output_type": "stream",
     "text": [
      "bir sayı giriniz: 543\n",
      "[1, 3, 181, 543]\n"
     ]
    }
   ],
   "source": [
    "def tamBolen(x):\n",
    "    tambolenler=[]\n",
    "    for i in range(1,x+1):\n",
    "        if(x%i==0):\n",
    "            tambolenler.append(i)\n",
    "    return tambolenler\n",
    "sayi=int(input(\"bir sayı giriniz: \"))\n",
    "print(tamBolen(sayi))"
   ]
  },
  {
   "cell_type": "markdown",
   "id": "d61f91d7",
   "metadata": {},
   "source": [
    "### **programlama ödevi fonksiyonlar**\n",
    "# **Problem 1 mukemmel sayi için fonksyon**\n"
   ]
  },
  {
   "cell_type": "code",
   "execution_count": 49,
   "id": "25a8a756",
   "metadata": {},
   "outputs": [
    {
     "name": "stdout",
     "output_type": "stream",
     "text": [
      "enter an integer: 6\n",
      "girilen sayı 6 mükemmel bir sayı\n",
      "[1, 2, 3]\n"
     ]
    }
   ],
   "source": [
    "a=int(input(\"enter an integer: \"))\n",
    "b=[]#mükemmel sayının tam bölenleri\n",
    "\n",
    "def mukemmelSayi(x):\n",
    "    c=0\n",
    "    for i in range(1,x):\n",
    "        if(x%i==0):\n",
    "            #print(i)\n",
    "            c=c+i\n",
    "            b.append(i)\n",
    "    if(c==a):\n",
    "        return True\n",
    "    else:\n",
    "        return False\n",
    "if(mukemmelSayi(a)):\n",
    "    print(\"girilen sayı {0} mükemmel bir sayı\".format(a))\n",
    "    print(b)\n",
    "else:\n",
    "    print(\"girilen sayı {0} mükemmel sayı değil\".format(a))\n",
    "    print(b) "
   ]
  },
  {
   "cell_type": "markdown",
   "id": "3c7aa2e0",
   "metadata": {},
   "source": [
    "# **PROBLEM 2-2SAYININ EBOB'UNU ALAN PROGRAM**"
   ]
  },
  {
   "cell_type": "markdown",
   "id": "eda1c95d",
   "metadata": {},
   "source": [
    "ebobda ki olay her iki sayıyı da tam bölen en büyük sayıdır.\n",
    "\n",
    "bir sayının bir sayıya tam bölünmesi 0 kalanını vermesidir.\n",
    "\n"
   ]
  },
  {
   "cell_type": "code",
   "execution_count": 64,
   "id": "7d5b19ba",
   "metadata": {},
   "outputs": [
    {
     "name": "stdout",
     "output_type": "stream",
     "text": [
      "num1: 15\n",
      "num2: 30\n",
      "1\n",
      "3\n",
      "5\n",
      "15\n"
     ]
    }
   ],
   "source": [
    "num1=int(input(\"num1: \"))\n",
    "num2=int(input(\"num2: \"))\n",
    "if(num1>num2):\n",
    "    for i in range(1,num1+1):\n",
    "        if(num1%i==0 and num2%i==0):\n",
    "            ebob=i\n",
    "            print(i)\n",
    "else:\n",
    "    for i in range(1,num2+1):\n",
    "        if(num1%i==0 and num2%i==0):\n",
    "            print(i)"
   ]
  },
  {
   "cell_type": "markdown",
   "id": "451996bd",
   "metadata": {},
   "source": [
    "yukarıdan da görüldüğü üzere otomatik  arttırıcı olarak for kullanırsak sürekli girilen değerleri karşılaştırmamız gerekecek\n",
    "\n",
    "i yi kontrollü arttırmamız lazım ki eboba ulaşalım\n"
   ]
  },
  {
   "cell_type": "code",
   "execution_count": 82,
   "id": "0208e2d0",
   "metadata": {},
   "outputs": [
    {
     "name": "stdout",
     "output_type": "stream",
     "text": [
      "num1: 15\n",
      "num2: 100\n",
      "5\n"
     ]
    }
   ],
   "source": [
    "def ebob(x,y):\n",
    "    i=1\n",
    "    ebobb=1\n",
    "    while(i<=x and i<=y):\n",
    "        if(x%i==0 and y%i==0):\n",
    "            ebobb=i\n",
    "        i+=1\n",
    "    return ebobb\n",
    "num1=int(input(\"num1: \"))\n",
    "num2=int(input(\"num2: \"))\n",
    "print(ebob(num1,num2))"
   ]
  },
  {
   "cell_type": "markdown",
   "id": "afba412f",
   "metadata": {},
   "source": [
    "### ekok bulma\n"
   ]
  },
  {
   "cell_type": "code",
   "execution_count": 90,
   "id": "637ac1c7",
   "metadata": {},
   "outputs": [
    {
     "name": "stdout",
     "output_type": "stream",
     "text": [
      "num1: 15\n",
      "num2: 20\n",
      "60\n"
     ]
    }
   ],
   "source": [
    "def ekok(x,y):\n",
    "    i=2\n",
    "    ekokk=1\n",
    "    while True:\n",
    "        if(x%i==0 and y%i==0):\n",
    "            ekokk*=i\n",
    "            x//=i\n",
    "            y//=i\n",
    "        elif(x%i!=0 and y%i==0):\n",
    "            ekokk*=i\n",
    "            y//=i\n",
    "            \n",
    "        elif(x%i==0 and y%i!=0):\n",
    "            ekokk*=i\n",
    "            \n",
    "            x//=i\n",
    "        else:\n",
    "            i+=1\n",
    "        if(x==1 and y==1):\n",
    "            break\n",
    "    return ekokk\n",
    "\n",
    "num1=int(input(\"num1: \"))\n",
    "num2=int(input(\"num2: \"))\n",
    "print(ekok(num1,num2))"
   ]
  },
  {
   "cell_type": "markdown",
   "id": "196086c6",
   "metadata": {},
   "source": [
    "### kullanıcıdan alınan 2 basamklı sayıyı yazıya çevirme"
   ]
  },
  {
   "cell_type": "code",
   "execution_count": 96,
   "id": "6e0f4be2",
   "metadata": {},
   "outputs": [
    {
     "name": "stdout",
     "output_type": "stream",
     "text": [
      "aa45\n",
      "Kırk Beş\n"
     ]
    }
   ],
   "source": [
    "birler =  [\"\",\"Bir\",\"İki\",\"Üç\",\"Dört\",\"Beş\",\"Altı\",\"Yedi\",\"Sekiz\",\"Dokuz\"]\n",
    "onlar = [\"\",\"On\",\"Yirmi\",\"Otuz\",\"Kırk\",\"Elli\",\"Altmış\",\"Yetmiş\",\"Seksen\",\"Doksan\"]\n",
    "\n",
    "\n",
    "\n",
    "def okunus(num):\n",
    "    birinci=num%10\n",
    "    ikinci=num//10\n",
    "    return onlar[ikinci]+ \" \" +birler[birinci]\n",
    "sayı=int(input(\"aa\"))\n",
    "print(okunus(sayı))"
   ]
  },
  {
   "cell_type": "markdown",
   "id": "d25e51cd",
   "metadata": {},
   "source": [
    "### 1-100 arası sayılardan pisagor oluşturanların listesini veren program"
   ]
  },
  {
   "cell_type": "code",
   "execution_count": 97,
   "id": "fcdc777a",
   "metadata": {},
   "outputs": [
    {
     "name": "stdout",
     "output_type": "stream",
     "text": [
      "(3, 4, 5)\n",
      "(4, 3, 5)\n",
      "(5, 12, 13)\n",
      "(6, 8, 10)\n",
      "(7, 24, 25)\n",
      "(8, 6, 10)\n",
      "(8, 15, 17)\n",
      "(9, 12, 15)\n",
      "(9, 40, 41)\n",
      "(10, 24, 26)\n",
      "(11, 60, 61)\n",
      "(12, 5, 13)\n",
      "(12, 9, 15)\n",
      "(12, 16, 20)\n",
      "(12, 35, 37)\n",
      "(13, 84, 85)\n",
      "(14, 48, 50)\n",
      "(15, 8, 17)\n",
      "(15, 20, 25)\n",
      "(15, 36, 39)\n",
      "(16, 12, 20)\n",
      "(16, 30, 34)\n",
      "(16, 63, 65)\n",
      "(18, 24, 30)\n",
      "(18, 80, 82)\n",
      "(20, 15, 25)\n",
      "(20, 21, 29)\n",
      "(20, 48, 52)\n",
      "(20, 99, 101)\n",
      "(21, 20, 29)\n",
      "(21, 28, 35)\n",
      "(21, 72, 75)\n",
      "(24, 7, 25)\n",
      "(24, 10, 26)\n",
      "(24, 18, 30)\n",
      "(24, 32, 40)\n",
      "(24, 45, 51)\n",
      "(24, 70, 74)\n",
      "(25, 60, 65)\n",
      "(27, 36, 45)\n",
      "(28, 21, 35)\n",
      "(28, 45, 53)\n",
      "(28, 96, 100)\n",
      "(30, 16, 34)\n",
      "(30, 40, 50)\n",
      "(30, 72, 78)\n",
      "(32, 24, 40)\n",
      "(32, 60, 68)\n",
      "(33, 44, 55)\n",
      "(33, 56, 65)\n",
      "(35, 12, 37)\n",
      "(35, 84, 91)\n",
      "(36, 15, 39)\n",
      "(36, 27, 45)\n",
      "(36, 48, 60)\n",
      "(36, 77, 85)\n",
      "(39, 52, 65)\n",
      "(39, 80, 89)\n",
      "(40, 9, 41)\n",
      "(40, 30, 50)\n",
      "(40, 42, 58)\n",
      "(40, 75, 85)\n",
      "(40, 96, 104)\n",
      "(42, 40, 58)\n",
      "(42, 56, 70)\n",
      "(44, 33, 55)\n",
      "(45, 24, 51)\n",
      "(45, 28, 53)\n",
      "(45, 60, 75)\n",
      "(48, 14, 50)\n",
      "(48, 20, 52)\n",
      "(48, 36, 60)\n",
      "(48, 55, 73)\n",
      "(48, 64, 80)\n",
      "(48, 90, 102)\n",
      "(51, 68, 85)\n",
      "(52, 39, 65)\n",
      "(54, 72, 90)\n",
      "(55, 48, 73)\n",
      "(56, 33, 65)\n",
      "(56, 42, 70)\n",
      "(56, 90, 106)\n",
      "(57, 76, 95)\n",
      "(60, 11, 61)\n",
      "(60, 25, 65)\n",
      "(60, 32, 68)\n",
      "(60, 45, 75)\n",
      "(60, 63, 87)\n",
      "(60, 80, 100)\n",
      "(60, 91, 109)\n",
      "(63, 16, 65)\n",
      "(63, 60, 87)\n",
      "(63, 84, 105)\n",
      "(64, 48, 80)\n",
      "(65, 72, 97)\n",
      "(66, 88, 110)\n",
      "(68, 51, 85)\n",
      "(69, 92, 115)\n",
      "(70, 24, 74)\n",
      "(72, 21, 75)\n",
      "(72, 30, 78)\n",
      "(72, 54, 90)\n",
      "(72, 65, 97)\n",
      "(72, 96, 120)\n",
      "(75, 40, 85)\n",
      "(75, 100, 125)\n",
      "(76, 57, 95)\n",
      "(77, 36, 85)\n",
      "(80, 18, 82)\n",
      "(80, 39, 89)\n",
      "(80, 60, 100)\n",
      "(80, 84, 116)\n",
      "(84, 13, 85)\n",
      "(84, 35, 91)\n",
      "(84, 63, 105)\n",
      "(84, 80, 116)\n",
      "(88, 66, 110)\n",
      "(90, 48, 102)\n",
      "(90, 56, 106)\n",
      "(91, 60, 109)\n",
      "(92, 69, 115)\n",
      "(96, 28, 100)\n",
      "(96, 40, 104)\n",
      "(96, 72, 120)\n",
      "(99, 20, 101)\n",
      "(100, 75, 125)\n"
     ]
    }
   ],
   "source": [
    "def pisagor():\n",
    "    pisagorListesi=list()\n",
    "    for i in range(1,101):\n",
    "        for j in range(1,101):\n",
    "            c=(i**2+j**2)**0.5\n",
    "            if(c==int(c)):\n",
    "                pisagorListesi.append((i,j,int(c)))\n",
    "    return pisagorListesi\n",
    "for i in pisagor():\n",
    "    print(i)"
   ]
  },
  {
   "cell_type": "markdown",
   "id": "2bf9b182",
   "metadata": {},
   "source": [
    "# moduller"
   ]
  },
  {
   "cell_type": "markdown",
   "id": "92a93a11",
   "metadata": {},
   "source": [
    "kullanmak istediğimiz modulu **import** ifadesiyle çağırıp o modul içerisindeki **importEdilenModul.kullanılmakIstenilenFonksiyon** şeklinde kullanırız"
   ]
  },
  {
   "cell_type": "code",
   "execution_count": 1,
   "id": "2858fed8",
   "metadata": {},
   "outputs": [
    {
     "data": {
      "text/plain": [
       "5"
      ]
     },
     "execution_count": 1,
     "metadata": {},
     "output_type": "execute_result"
    }
   ],
   "source": [
    "import math\n",
    "math.floor(5.6)"
   ]
  },
  {
   "cell_type": "code",
   "execution_count": 2,
   "id": "852f3005",
   "metadata": {},
   "outputs": [
    {
     "data": {
      "text/plain": [
       "6"
      ]
     },
     "execution_count": 2,
     "metadata": {},
     "output_type": "execute_result"
    }
   ],
   "source": [
    "math.ceil(5.6)"
   ]
  },
  {
   "cell_type": "markdown",
   "id": "d4167bc6",
   "metadata": {},
   "source": [
    "import edilen modulu kendi isminde değilde farklı bir isimde kullanmak istersek\n",
    "\n",
    "*import math **as** mt* dememiz yeterli"
   ]
  },
  {
   "cell_type": "code",
   "execution_count": 3,
   "id": "8e388a55",
   "metadata": {},
   "outputs": [
    {
     "data": {
      "text/plain": [
       "120"
      ]
     },
     "execution_count": 3,
     "metadata": {},
     "output_type": "execute_result"
    }
   ],
   "source": [
    "import math as mt\n",
    "mt.factorial(5)"
   ]
  },
  {
   "cell_type": "markdown",
   "id": "b02e0c24",
   "metadata": {},
   "source": [
    "çağırılan modulden tum fonksiyonları dahil etmek için\n",
    "\n",
    "**from** modul import  *  ifadesi kullanılır\n",
    "\n",
    "bu ifade kullanıldığında kod içerisinde modul. gibi ifadelere gerek kalmadan fonksiyon kullanılır\n",
    "\n",
    "bunu kullanmanın çok fazla sıkıntısı olacağından genellikle tercih edilmez"
   ]
  },
  {
   "cell_type": "code",
   "execution_count": 4,
   "id": "ae9afffd",
   "metadata": {},
   "outputs": [],
   "source": [
    "from math import *"
   ]
  },
  {
   "cell_type": "code",
   "execution_count": 22,
   "id": "3e7f91ba",
   "metadata": {},
   "outputs": [
    {
     "data": {
      "text/plain": [
       "120"
      ]
     },
     "execution_count": 22,
     "metadata": {},
     "output_type": "execute_result"
    }
   ],
   "source": [
    "factorial(5)"
   ]
  },
  {
   "cell_type": "code",
   "execution_count": 23,
   "id": "c8772e82",
   "metadata": {},
   "outputs": [
    {
     "data": {
      "text/plain": [
       "2.8284271247461903"
      ]
     },
     "execution_count": 23,
     "metadata": {},
     "output_type": "execute_result"
    }
   ],
   "source": [
    "sqrt(8)"
   ]
  },
  {
   "cell_type": "markdown",
   "id": "d5202ccd",
   "metadata": {},
   "source": [
    "bir modulden sadece istediğimiz fonksiyonu çağırmak için\n",
    "\n",
    "**from modul import func1,func2 . . . .**\n",
    "\n",
    "dikkat edilmesi gereken nokta sadece çağırılan fonksiyonlar çalışır diğer fonksiyonlar çağırılmadığı için hata verir"
   ]
  },
  {
   "cell_type": "code",
   "execution_count": 19,
   "id": "ec523009",
   "metadata": {},
   "outputs": [],
   "source": [
    "from math import floor,ceil "
   ]
  },
  {
   "cell_type": "code",
   "execution_count": 24,
   "id": "bf612eeb",
   "metadata": {},
   "outputs": [
    {
     "data": {
      "text/plain": [
       "7"
      ]
     },
     "execution_count": 24,
     "metadata": {},
     "output_type": "execute_result"
    }
   ],
   "source": [
    "floor(7.8)"
   ]
  },
  {
   "cell_type": "code",
   "execution_count": 25,
   "id": "c2e0a821",
   "metadata": {},
   "outputs": [
    {
     "data": {
      "text/plain": [
       "8"
      ]
     },
     "execution_count": 25,
     "metadata": {},
     "output_type": "execute_result"
    }
   ],
   "source": [
    "ceil(7.8)"
   ]
  },
  {
   "attachments": {
    "image.png": {
     "image/png": "[encoded data removed]"
    }
   },
   "cell_type": "markdown",
   "id": "b0bb90d0",
   "metadata": {},
   "source": [
    "![image.png](attachment:image.png)"
   ]
  },
  {
   "cell_type": "code",
   "execution_count": null,
   "id": "9914c36d",
   "metadata": {},
   "outputs": [],
   "source": []
  }
 ],
 "metadata": {
  "kernelspec": {
   "display_name": "Python 3 (ipykernel)",
   "language": "python",
   "name": "python3"
  },
  "language_info": {
   "codemirror_mode": {
    "name": "ipython",
    "version": 3
   },
   "file_extension": ".py",
   "mimetype": "text/x-python",
   "name": "python",
   "nbconvert_exporter": "python",
   "pygments_lexer": "ipython3",
   "version": "3.9.7"
  }
 },
 "nbformat": 4,
 "nbformat_minor": 5
}
