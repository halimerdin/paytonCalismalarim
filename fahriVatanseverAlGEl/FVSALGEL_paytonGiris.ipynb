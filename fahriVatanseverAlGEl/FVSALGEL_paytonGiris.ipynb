{
 "cells": [
  {
   "cell_type": "markdown",
   "id": "c381d072",
   "metadata": {},
   "source": [
    "  ### Fahri Vatansever Algoritma Geliştirme Kitabı Uygulamaları Operatörler"
   ]
  },
  {
   "cell_type": "code",
   "execution_count": 2,
   "id": "5d211f65",
   "metadata": {},
   "outputs": [
    {
     "name": "stdout",
     "output_type": "stream",
     "text": [
      "Merhaba\n"
     ]
    }
   ],
   "source": [
    "print(\"Merhaba\")"
   ]
  },
  {
   "cell_type": "code",
   "execution_count": 3,
   "id": "198c16c4",
   "metadata": {},
   "outputs": [
    {
     "name": "stdout",
     "output_type": "stream",
     "text": [
      "alo\n"
     ]
    }
   ],
   "source": [
    "print(\"alo\");"
   ]
  },
  {
   "cell_type": "code",
   "execution_count": 4,
   "id": "9c83faf6",
   "metadata": {},
   "outputs": [
    {
     "data": {
      "text/plain": [
       "'buda\\n    çok\\n    satırlık\\n    bir\\n    yorumdur.\\n'"
      ]
     },
     "execution_count": 4,
     "metadata": {},
     "output_type": "execute_result"
    }
   ],
   "source": [
    "#bu tek satırlık bir yorumdur\n",
    "\"\"\"buda\n",
    "    çok\n",
    "    satırlık\n",
    "    bir\n",
    "    yorumdur.\n",
    "\"\"\""
   ]
  },
  {
   "cell_type": "code",
   "execution_count": 5,
   "id": "a1367df3",
   "metadata": {},
   "outputs": [
    {
     "name": "stdout",
     "output_type": "stream",
     "text": [
      "al\u0000\n"
     ]
    }
   ],
   "source": [
    "print(\"al\\0\")"
   ]
  },
  {
   "cell_type": "code",
   "execution_count": 6,
   "id": "d12e8815",
   "metadata": {},
   "outputs": [
    {
     "name": "stdout",
     "output_type": "stream",
     "text": [
      "alo\\ burdayım\n"
     ]
    }
   ],
   "source": [
    "print(\"alo\\ burdayım\")"
   ]
  },
  {
   "cell_type": "markdown",
   "id": "3bc1551c",
   "metadata": {},
   "source": [
    "### üs alma işlemi ** ifadesi ile yapılır örneğin:"
   ]
  },
  {
   "cell_type": "code",
   "execution_count": 8,
   "id": "e6da696f",
   "metadata": {},
   "outputs": [
    {
     "data": {
      "text/plain": [
       "9"
      ]
     },
     "execution_count": 8,
     "metadata": {},
     "output_type": "execute_result"
    }
   ],
   "source": [
    "3**2"
   ]
  },
  {
   "cell_type": "markdown",
   "id": "5d15995e",
   "metadata": {},
   "source": [
    "çarpma işlemi * ifadesi ile , bölme işlemi / ifadesi ile, toplama + ifadesi ile, çıkarma - ifadesi ile yapılır. örneğin:"
   ]
  },
  {
   "cell_type": "code",
   "execution_count": 9,
   "id": "681d9c6b",
   "metadata": {},
   "outputs": [
    {
     "name": "stdout",
     "output_type": "stream",
     "text": [
      "6\n",
      "3.0\n",
      "5\n",
      "1\n"
     ]
    }
   ],
   "source": [
    "print(3*2)\n",
    "print(9/3)\n",
    "print(3+2)\n",
    "print(3-2)"
   ]
  },
  {
   "cell_type": "markdown",
   "id": "874dcf06",
   "metadata": {},
   "source": [
    "Mod alma işlemi % ifadesi ile yapılır. Mod almaktan kasdedilen ise bir sayıyı bir sayıya böldümüzde kalanın kaç olduğunu görmektir."
   ]
  },
  {
   "cell_type": "code",
   "execution_count": 10,
   "id": "4ec1f28f",
   "metadata": {},
   "outputs": [
    {
     "data": {
      "text/plain": [
       "1"
      ]
     },
     "execution_count": 10,
     "metadata": {},
     "output_type": "execute_result"
    }
   ],
   "source": [
    "9%4"
   ]
  },
  {
   "cell_type": "markdown",
   "id": "373488d4",
   "metadata": {},
   "source": [
    "a = a + b >>> a + = b olarak  yazabiliriz"
   ]
  },
  {
   "cell_type": "markdown",
   "id": "dcd42bf8",
   "metadata": {},
   "source": [
    "x = x / y >>> x / = y olarak yazabiliriz\n"
   ]
  },
  {
   "cell_type": "markdown",
   "id": "9a796db5",
   "metadata": {},
   "source": [
    "e = e - f >>> e - = f olarak yazabiliriz"
   ]
  },
  {
   "cell_type": "markdown",
   "id": "2663c6c7",
   "metadata": {},
   "source": [
    "t = t * m >>> t * = m olarak yazabiliriz"
   ]
  },
  {
   "cell_type": "markdown",
   "id": "f40ac90a",
   "metadata": {},
   "source": [
    "u = u % w  >>>  u % = w olarak yazabiliriz"
   ]
  },
  {
   "cell_type": "markdown",
   "id": "93015d07",
   "metadata": {},
   "source": [
    "r = r ** p >>> u ** = w olarak yazabiliriz"
   ]
  },
  {
   "cell_type": "markdown",
   "id": "d24f8721",
   "metadata": {},
   "source": [
    "pythonda ayrıca tam sayı olarak dönüt verebilen bölme operatörü vardır ve // ile kullanılır. Normalde / ifadesi ile kullanıcıya dönüt olarak float bir sayı gelirken // ifadesiyle kullanıcıya tam sayı değeri verilir. aslında bu operatör kullanıcaya bölüm değerinin floor değerini gösterir."
   ]
  },
  {
   "cell_type": "code",
   "execution_count": 13,
   "id": "e4be69ad",
   "metadata": {},
   "outputs": [
    {
     "name": "stdout",
     "output_type": "stream",
     "text": [
      "4.5\n",
      "4\n"
     ]
    }
   ],
   "source": [
    "print(9/2)\n",
    "print(9//2)"
   ]
  },
  {
   "cell_type": "markdown",
   "id": "d55fe813",
   "metadata": {},
   "source": [
    "tam sayı döndüren bölme ifadesini A = A // B yerine A // = B olarak kullanabiliriz"
   ]
  },
  {
   "cell_type": "markdown",
   "id": "38413714",
   "metadata": {},
   "source": [
    "   ### KARŞILAŞTIRMA OPERATÖRLERİ\n",
    "*****\n",
    "bu kısımda genel olarak kullanılan operatörler mi sorusuyla geliyor. örn: eşit **mi** eşit değil **mi** vb."
   ]
  },
  {
   "cell_type": "markdown",
   "id": "225aa4c3",
   "metadata": {},
   "source": [
    "eşitği sorgularken **==** kullanılır.\n"
   ]
  },
  {
   "cell_type": "markdown",
   "id": "6cc99308",
   "metadata": {},
   "source": [
    "eşitsizliği sordularken **!=** kullanılır."
   ]
  },
  {
   "cell_type": "markdown",
   "id": "4d2226ed",
   "metadata": {},
   "source": [
    "x değerinin y değerinden küçük olup olmadığını sordularken **x < y** kullanılır.\n"
   ]
  },
  {
   "cell_type": "markdown",
   "id": "edb81b19",
   "metadata": {},
   "source": [
    "x değerinin y değerinden büyük olup olmadığını sordularken **x > y** kullanılır.\n"
   ]
  },
  {
   "cell_type": "markdown",
   "id": "a86c063a",
   "metadata": {},
   "source": [
    "x değerinin y değerinden büyük ve eşit olup olmadığını sordularken **x >= y** kullanılır.\n"
   ]
  },
  {
   "cell_type": "markdown",
   "id": "88c25227",
   "metadata": {},
   "source": [
    "x değerinin y değerinden küçük ve eşit olup olmadığını sordularken **x <= y** kullanılır.\n"
   ]
  },
  {
   "cell_type": "markdown",
   "id": "3a03d291",
   "metadata": {},
   "source": [
    "### MANTIKSAL OPERATÖRLER\n",
    "*****\n",
    "Genellikle sordu bloklarının içerisinde kullanılan bu opratörler bitsel anlamda kullanıcıya boolean yada bool çıkış verir.Bu ifadeler genellikle çıkış operatörleri ile birlikte kullanıllır. kısacası kullanıcıya **true(1)** yada **false(0)** çıkışını verir\n"
   ]
  },
  {
   "cell_type": "markdown",
   "id": "3e63e797",
   "metadata": {},
   "source": [
    "değil ifadesi için C++ dilinde kullanılan **!** yerine **~** ifadesi yada **not** yazımı kullanılır. ifade doğruysa **0** çıkışı, yanlışsa **1** çıkışı verir.\n",
    "****\n",
    "yani değilini alır."
   ]
  },
  {
   "cell_type": "markdown",
   "id": "56178df9",
   "metadata": {},
   "source": [
    "2 terim için lojiksel sordulama yapılacaksa **veya(or)** ve **ve(and)** yaıları kullanılır.\n",
    "****\n",
    "2 terimden(terimlerden kastımız karşılaştırılan 2 ifade de olabilir) her hangi biri"
   ]
  },
  {
   "cell_type": "code",
   "execution_count": 19,
   "id": "39dadd5d",
   "metadata": {},
   "outputs": [
    {
     "data": {
      "text/plain": [
       "True"
      ]
     },
     "execution_count": 19,
     "metadata": {},
     "output_type": "execute_result"
    }
   ],
   "source": [
    "a=False\n",
    "b=True\n",
    "a or b"
   ]
  },
  {
   "cell_type": "markdown",
   "id": "74235d70",
   "metadata": {},
   "source": [
    "### PYTHON DİLİNİN YAPISI"
   ]
  },
  {
   "cell_type": "markdown",
   "id": "368df1a5",
   "metadata": {},
   "source": [
    "satır olarak açıklama **#** işareti kullanılır\n"
   ]
  },
  {
   "cell_type": "code",
   "execution_count": 6,
   "id": "5ef75395",
   "metadata": {},
   "outputs": [],
   "source": [
    "# BU BİR AÇIKLAMA SATIRIDIR"
   ]
  },
  {
   "cell_type": "markdown",
   "id": "0a855a32",
   "metadata": {},
   "source": [
    "İsimlendirme kurallarına uygun olarak değişken ataması yapılır. atanan değişkeni silmek için **del** kulanılır."
   ]
  },
  {
   "cell_type": "code",
   "execution_count": 8,
   "id": "feb579a5",
   "metadata": {
    "scrolled": true
   },
   "outputs": [
    {
     "ename": "NameError",
     "evalue": "name 'degisken' is not defined",
     "output_type": "error",
     "traceback": [
      "\u001b[1;31m---------------------------------------------------------------------------\u001b[0m",
      "\u001b[1;31mNameError\u001b[0m                                 Traceback (most recent call last)",
      "\u001b[1;32m~\\AppData\\Local\\Temp/ipykernel_3480/2857438321.py\u001b[0m in \u001b[0;36m<module>\u001b[1;34m\u001b[0m\n\u001b[0;32m      3\u001b[0m \u001b[0ma1\u001b[0m\u001b[1;33m,\u001b[0m\u001b[0ma2\u001b[0m\u001b[1;33m=\u001b[0m\u001b[0ma3\u001b[0m\u001b[1;33m,\u001b[0m\u001b[0ma4\u001b[0m\u001b[1;33m=\u001b[0m\u001b[0md1\u001b[0m\u001b[1;33m,\u001b[0m\u001b[0md2\u001b[0m\u001b[1;33m\u001b[0m\u001b[1;33m\u001b[0m\u001b[0m\n\u001b[0;32m      4\u001b[0m \u001b[1;32mdel\u001b[0m \u001b[0mdegisken\u001b[0m\u001b[1;33m\u001b[0m\u001b[1;33m\u001b[0m\u001b[0m\n\u001b[1;32m----> 5\u001b[1;33m \u001b[0mprint\u001b[0m\u001b[1;33m(\u001b[0m\u001b[0mdegisken\u001b[0m\u001b[1;33m)\u001b[0m\u001b[1;33m\u001b[0m\u001b[1;33m\u001b[0m\u001b[0m\n\u001b[0m",
      "\u001b[1;31mNameError\u001b[0m: name 'degisken' is not defined"
     ]
    }
   ],
   "source": [
    "degisken=3 # tekli değer ataması\n",
    "d1=d2=d3=4 # çoklu değer ataması\n",
    "a1,a2=a3,a4=d1,d2\n",
    "del degisken\n",
    "print(degisken)"
   ]
  },
  {
   "cell_type": "markdown",
   "id": "7db274ea",
   "metadata": {},
   "source": [
    "Yukarıdan görüldüğü üzere **degisken** isimli referans silindiği için hata vermiştir. Ayrıca yukarıda atama yöntemleri de kullanılabilir"
   ]
  },
  {
   "cell_type": "markdown",
   "id": "bd0f26d0",
   "metadata": {},
   "source": [
    "### SINIF TANIMLAMA"
   ]
  },
  {
   "cell_type": "markdown",
   "id": "e8d29440",
   "metadata": {},
   "source": [
    "Sınıf tanımlama işlemi aşağıdaki gibidir"
   ]
  },
  {
   "cell_type": "code",
   "execution_count": 10,
   "id": "61f170dd",
   "metadata": {},
   "outputs": [],
   "source": [
    "class sinif_adi:\n",
    "    ifade1=3\n",
    "    ifade2=2"
   ]
  },
  {
   "cell_type": "markdown",
   "id": "d6878c82",
   "metadata": {},
   "source": [
    "### MODUL ÇAĞIRMA\n",
    "********\n",
    "pythonda modul çağırma **import** ile yapılmaktadır. Ayrıca çağırılan modülü istenilen şekilde adlandırmak için **as** ifadesine baş vurulur.\n"
   ]
  },
  {
   "cell_type": "code",
   "execution_count": 11,
   "id": "1b4761bc",
   "metadata": {},
   "outputs": [],
   "source": [
    "import numpy as ny\n",
    "import scipy as sy"
   ]
  },
  {
   "cell_type": "markdown",
   "id": "87287fb0",
   "metadata": {},
   "source": [
    "### FONKSİYONLAR\n",
    "********\n",
    "alt program oluşturması (arduino da void) pythonda **def** ile yapılır. kullanım şekli:\n",
    "\n"
   ]
  },
  {
   "cell_type": "code",
   "execution_count": 18,
   "id": "52bc1cd0",
   "metadata": {},
   "outputs": [
    {
     "name": "stdout",
     "output_type": "stream",
     "text": [
      "bir tam sayı giriniz: 55\n",
      "\n",
      "MUtlak değeri: 55\n"
     ]
    }
   ],
   "source": [
    "#fonksiyon kullanımı\n",
    "def mutlak(x):\n",
    "    if x<0:\n",
    "        return -1*x\n",
    "    if x>0:\n",
    "        return x\n",
    "a=eval(input(\"bir tam sayı giriniz: \"))\n",
    "print(\"\\nMUtlak değeri: %d\" %mutlak(a))"
   ]
  },
  {
   "cell_type": "markdown",
   "id": "0c9c00f9",
   "metadata": {},
   "source": [
    "### Pythonda Veri Giriş Komutları"
   ]
  },
  {
   "cell_type": "markdown",
   "id": "f86f26b5",
   "metadata": {},
   "source": [
    "### input"
   ]
  },
  {
   "cell_type": "markdown",
   "id": "0d5880cc",
   "metadata": {},
   "source": [
    "d1=input(\"mesaj\")       ---> alfa sayısal giriş yani girilen her şeyi kabul eder ve parantez içinin sonuna yazar\n",
    "********\n",
    "d2=int(input(\"mesaj\"))  ---> tam sayı girişi tam sayı dışındaki ifadeler de hata verir"
   ]
  },
  {
   "cell_type": "code",
   "execution_count": 22,
   "id": "c2611592",
   "metadata": {},
   "outputs": [
    {
     "name": "stdout",
     "output_type": "stream",
     "text": [
      "sayısal giriş yapılmalı :zz\n"
     ]
    },
    {
     "ename": "ValueError",
     "evalue": "invalid literal for int() with base 10: 'zz'",
     "output_type": "error",
     "traceback": [
      "\u001b[1;31m---------------------------------------------------------------------------\u001b[0m",
      "\u001b[1;31mValueError\u001b[0m                                Traceback (most recent call last)",
      "\u001b[1;32m~\\AppData\\Local\\Temp/ipykernel_3480/1077767611.py\u001b[0m in \u001b[0;36m<module>\u001b[1;34m\u001b[0m\n\u001b[1;32m----> 1\u001b[1;33m \u001b[0md2\u001b[0m\u001b[1;33m=\u001b[0m\u001b[0mint\u001b[0m\u001b[1;33m(\u001b[0m\u001b[0minput\u001b[0m\u001b[1;33m(\u001b[0m\u001b[1;34m\"sayısal giriş yapılmalı :\"\u001b[0m\u001b[1;33m)\u001b[0m\u001b[1;33m)\u001b[0m\u001b[1;33m\u001b[0m\u001b[1;33m\u001b[0m\u001b[0m\n\u001b[0m",
      "\u001b[1;31mValueError\u001b[0m: invalid literal for int() with base 10: 'zz'"
     ]
    }
   ],
   "source": [
    "d2=int(input(\"sayısal giriş yapılmalı :\"))"
   ]
  },
  {
   "cell_type": "markdown",
   "id": "1147dfbf",
   "metadata": {},
   "source": [
    "d3=float(input(\"mesaj\")) ---> ondalık sayı girişi eğersayı ondalık değilse girilen sayıyı yazar"
   ]
  },
  {
   "cell_type": "code",
   "execution_count": 25,
   "id": "ec52d71d",
   "metadata": {},
   "outputs": [
    {
     "name": "stdout",
     "output_type": "stream",
     "text": [
      "ondalık sayı giriniz: 1\n"
     ]
    }
   ],
   "source": [
    "d3=float(input(\"ondalık sayı giriniz: \"))"
   ]
  },
  {
   "cell_type": "markdown",
   "id": "04162662",
   "metadata": {},
   "source": [
    "d3=eval(input(\"mesaj\"))---> parantez içerisindeki veriyi değerlendirip verinin türüne göre cevap verir. "
   ]
  },
  {
   "cell_type": "code",
   "execution_count": 29,
   "id": "31984ac7",
   "metadata": {},
   "outputs": [
    {
     "name": "stdout",
     "output_type": "stream",
     "text": [
      "5*5 : 25\n"
     ]
    },
    {
     "data": {
      "text/plain": [
       "25"
      ]
     },
     "execution_count": 29,
     "metadata": {},
     "output_type": "execute_result"
    }
   ],
   "source": [
    "eval(input(\"5*5 : \"))\n"
   ]
  },
  {
   "cell_type": "markdown",
   "id": "f4485425",
   "metadata": {},
   "source": [
    "### Pythonda Veri Çıkış Komutları"
   ]
  },
  {
   "cell_type": "markdown",
   "id": "7648aab1",
   "metadata": {},
   "source": [
    "### print\n",
    "ekrana yada dosyaya yazdırmak için kullanılır"
   ]
  },
  {
   "cell_type": "code",
   "execution_count": 30,
   "id": "94a553fd",
   "metadata": {},
   "outputs": [
    {
     "name": "stdout",
     "output_type": "stream",
     "text": [
      "mesaj\n",
      "mesaj\n",
      "mesaj\n"
     ]
    }
   ],
   "source": [
    "print('mesaj')\n",
    "print(\"mesaj\")\n",
    "print(\"\"\"mesaj\"\"\")"
   ]
  },
  {
   "cell_type": "code",
   "execution_count": 44,
   "id": "c024d92d",
   "metadata": {},
   "outputs": [
    {
     "name": "stdout",
     "output_type": "stream",
     "text": [
      "aa\n",
      "5.5\n"
     ]
    }
   ],
   "source": [
    "d1=\"aa\" ; print(d1);\n",
    "d2=5.5; print(d2);\n"
   ]
  },
  {
   "cell_type": "code",
   "execution_count": 61,
   "id": "8476d6dd",
   "metadata": {
    "scrolled": true
   },
   "outputs": [
    {
     "name": "stdout",
     "output_type": "stream",
     "text": [
      "'35' lesser than '45'\n"
     ]
    }
   ],
   "source": [
    "d1=35\n",
    "d2=45\n",
    "print(\"'{0}' lesser than '{1}'\".format(d1,d2))"
   ]
  },
  {
   "cell_type": "markdown",
   "id": "becbf966",
   "metadata": {},
   "source": [
    "### Çıkış Biçimlendirme"
   ]
  },
  {
   "cell_type": "markdown",
   "id": "b01dcf44",
   "metadata": {},
   "source": [
    "### format"
   ]
  },
  {
   "cell_type": "markdown",
   "id": "2e667705",
   "metadata": {},
   "source": [
    "istenilen değeri belirtilen biçime dönüştürülür. Konsol uygulamalarında genellikle kullanıldığı için gerekli olduğu durumlarda internetten neyi hangi formata çevirdğine bakmak daha mantıklı olduğundan boşuna yazmaya gerek yoktur. Sadece bir örnek ile gösterildi."
   ]
  },
  {
   "cell_type": "code",
   "execution_count": 64,
   "id": "38d092ad",
   "metadata": {},
   "outputs": [
    {
     "name": "stdout",
     "output_type": "stream",
     "text": [
      "1.değer: 99, 2.değer: 12.456\n",
      "1.değer: 99, 2.değer: 12.456\n"
     ]
    }
   ],
   "source": [
    "a=99;b=12.456;c=\"halim\";\n",
    "print(\"1.değer: {}, 2.değer: {}\".format(a,b))\n",
    "print(\"1.değer: {0}, 2.değer: {1}\".format(a,b))"
   ]
  },
  {
   "cell_type": "code",
   "execution_count": 65,
   "id": "d3464de1",
   "metadata": {},
   "outputs": [
    {
     "name": "stdout",
     "output_type": "stream",
     "text": [
      "1.değer: 099, 2.değer: 12.5      , 3.değer:      halim\n"
     ]
    }
   ],
   "source": [
    "print(\"1.değer: {0:03d}, 2.değer: {1:<10.1f}, 3.değer: {2:>10s}\".format(a,b,c))"
   ]
  },
  {
   "cell_type": "code",
   "execution_count": 66,
   "id": "cdc25885",
   "metadata": {},
   "outputs": [
    {
     "name": "stdout",
     "output_type": "stream",
     "text": [
      "ha\n"
     ]
    }
   ],
   "source": [
    "print(\"{:.2}\".format(c))"
   ]
  },
  {
   "cell_type": "code",
   "execution_count": 69,
   "id": "8b5597f3",
   "metadata": {},
   "outputs": [
    {
     "name": "stdout",
     "output_type": "stream",
     "text": [
      "     halim     \n"
     ]
    }
   ],
   "source": [
    "print(\"{:^15}\".format(c))#**^** karakterini koydu"
   ]
  },
  {
   "cell_type": "code",
   "execution_count": 68,
   "id": "30c1c89d",
   "metadata": {},
   "outputs": [
    {
     "name": "stdout",
     "output_type": "stream",
     "text": [
      "halim+++++\n"
     ]
    }
   ],
   "source": [
    "print(\"{:+<10}\".format(c))#istenilen şeyi yazdırıp 10 a kadar 10 hariç + yazdırdı"
   ]
  },
  {
   "cell_type": "markdown",
   "id": "a57e7de8",
   "metadata": {},
   "source": [
    "### center\n",
    "******\n",
    "alfasayısal veriyi belirtilen değere göre doldurmakta ve eklenmek istenilen karakteri etrafına doldurur."
   ]
  },
  {
   "cell_type": "code",
   "execution_count": 71,
   "id": "3e961b35",
   "metadata": {},
   "outputs": [
    {
     "name": "stdout",
     "output_type": "stream",
     "text": [
      "=====halim=====\n"
     ]
    }
   ],
   "source": [
    "a=\"halim\"\n",
    "print(a.center(15,\"=\"))"
   ]
  },
  {
   "cell_type": "markdown",
   "id": "569915d4",
   "metadata": {},
   "source": [
    "### ljust\n",
    "******\n",
    "alfasayısal veriyi sola yaslayıp istenilirse belirtilen arakter ile doldurur."
   ]
  },
  {
   "cell_type": "code",
   "execution_count": 73,
   "id": "66118c47",
   "metadata": {},
   "outputs": [
    {
     "name": "stdout",
     "output_type": "stream",
     "text": [
      "halimééééééé\n"
     ]
    }
   ],
   "source": [
    "print(a.ljust(12,\"é\"))"
   ]
  },
  {
   "cell_type": "markdown",
   "id": "f71bef9d",
   "metadata": {},
   "source": [
    "### rjust\n",
    "***************\n",
    "alfasayısal veriyi sağa yaslayıp istenilirse belirtilen arakter ile doldurur."
   ]
  },
  {
   "cell_type": "code",
   "execution_count": 75,
   "id": "01f85a90",
   "metadata": {},
   "outputs": [
    {
     "name": "stdout",
     "output_type": "stream",
     "text": [
      "$$$$$$$halim\n"
     ]
    }
   ],
   "source": [
    "print(a.rjust(12,\"$\"))"
   ]
  },
  {
   "cell_type": "markdown",
   "id": "1b9fde70",
   "metadata": {},
   "source": [
    "### zfill\n",
    "********\n",
    "alfasayısal veriyi sağa yaslayıp soluna yani önüne belirtilen sayı kadar 0 koyar"
   ]
  },
  {
   "cell_type": "code",
   "execution_count": 76,
   "id": "eb23b2db",
   "metadata": {},
   "outputs": [
    {
     "name": "stdout",
     "output_type": "stream",
     "text": [
      "0000000halim\n"
     ]
    }
   ],
   "source": [
    "print(a.zfill(12))"
   ]
  },
  {
   "cell_type": "markdown",
   "id": "1bd2a0b3",
   "metadata": {},
   "source": [
    "### DÖNGÜ KOMUTLARI(for,while, do-while)"
   ]
  },
  {
   "cell_type": "markdown",
   "id": "d361ef0c",
   "metadata": {},
   "source": [
    "### for(örnekler ile)\n",
    "*****\n",
    " ### **for(indis başlangıç,indis bitiş,indis artış(azalış)miktadarı):**"
   ]
  },
  {
   "cell_type": "markdown",
   "id": "0e7f6960",
   "metadata": {},
   "source": [
    "### for değişken in sıra:\n",
    "    ### işlemler\n",
    "### else:\n",
    "    ### işlemler"
   ]
  },
  {
   "cell_type": "code",
   "execution_count": 78,
   "id": "6bcf44ac",
   "metadata": {},
   "outputs": [
    {
     "name": "stdout",
     "output_type": "stream",
     "text": [
      "h\n",
      "a\n",
      "l\n",
      "i\n",
      "m\n"
     ]
    }
   ],
   "source": [
    "for i in a:\n",
    "    print(i)"
   ]
  },
  {
   "cell_type": "code",
   "execution_count": 80,
   "id": "9e8d46f9",
   "metadata": {},
   "outputs": [
    {
     "name": "stdout",
     "output_type": "stream",
     "text": [
      "elma\n",
      "aröut\n",
      "yok\n",
      "burdayım\n",
      "tamamda neden  ordasın\n"
     ]
    }
   ],
   "source": [
    "#liste yazdırma\n",
    "b=[\"elma\",\"aröut\",\"yok\",\"burdayım\",\"tamamda neden  ordasın\"]\n",
    "for i in b:\n",
    "    print(i)"
   ]
  },
  {
   "cell_type": "markdown",
   "id": "f9bbb56e",
   "metadata": {},
   "source": [
    "### while\n",
    "****\n",
    "### her seferinde tekrar tekrar döngüye girilmesi isteniyorsa if yerine while kullanılır."
   ]
  },
  {
   "cell_type": "markdown",
   "id": "4c74b001",
   "metadata": {},
   "source": [
    "### while koşul:\n",
    "    ### işlemler\n",
    "### while koşul:\n",
    "    ### işlemler\n",
    "### else:   \n",
    "    ### işlemler"
   ]
  },
  {
   "cell_type": "code",
   "execution_count": 85,
   "id": "af023e98",
   "metadata": {},
   "outputs": [
    {
     "name": "stdout",
     "output_type": "stream",
     "text": [
      "0 <5\n",
      "1 <5\n",
      "2 <5\n",
      "3 <5\n",
      "4 <5\n",
      "döngü koşulu sağlanmadı. 5  =5\n"
     ]
    }
   ],
   "source": [
    "s=0\n",
    "while s<5:\n",
    "    print(s,\"<5\")\n",
    "    s+=1\n",
    "else:\n",
    "    print(\"döngü koşulu sağlanmadı.\",s,\" =5\")"
   ]
  },
  {
   "cell_type": "markdown",
   "id": "4ea2547c",
   "metadata": {},
   "source": [
    "pythonda döngü komutlarını bitirmek için **break** kullanılır. döngüyü devam ettirmek için **continue** kullanılır. Pythonda **do-while** göngüsü yoktur."
   ]
  },
  {
   "cell_type": "markdown",
   "id": "b627ba72",
   "metadata": {},
   "source": [
    "### KARAR KOMUTLARI"
   ]
  },
  {
   "cell_type": "markdown",
   "id": "53f4a626",
   "metadata": {},
   "source": [
    "### if-elif-else"
   ]
  },
  {
   "cell_type": "code",
   "execution_count": 93,
   "id": "948c3d62",
   "metadata": {},
   "outputs": [
    {
     "name": "stdout",
     "output_type": "stream",
     "text": [
      "1. sayı giriniz: 5\n",
      "pozitif\n"
     ]
    }
   ],
   "source": [
    "#örnek-1\n",
    "d=eval(input(\"1. sayı giriniz: \"));\n",
    "if (d>0):\n",
    "    print(\"pozitif\")\n",
    "elif(d<0):\n",
    "    print(\"negatif\")\n",
    "else:\n",
    "    print(\"sıfır\")"
   ]
  },
  {
   "cell_type": "code",
   "execution_count": 97,
   "id": "da0c99b8",
   "metadata": {},
   "outputs": [
    {
     "name": "stdout",
     "output_type": "stream",
     "text": [
      "1. sayı giriniz: -5\n",
      "2. sayı giriniz: 8\n",
      "3. sayı giriniz: 0\n",
      "pozitif\n"
     ]
    }
   ],
   "source": [
    "#örnek-1\n",
    "d=eval(input(\"1. sayı giriniz: \"));\n",
    "e=eval(input(\"2. sayı giriniz: \"));\n",
    "f=eval(input(\"3. sayı giriniz: \"));\n",
    "if (d>0 or e>0 or f>0):\n",
    "    print(\"pozitif\")\n",
    "elif(d<0 or e<0 or f<0):\n",
    "    print(\"negatif\")\n",
    "else:\n",
    "    print(\"sıfır\")"
   ]
  },
  {
   "cell_type": "code",
   "execution_count": 95,
   "id": "4575c4a0",
   "metadata": {},
   "outputs": [
    {
     "name": "stdout",
     "output_type": "stream",
     "text": [
      "bir sayı gir len: -5\n",
      "5\n"
     ]
    }
   ],
   "source": [
    "del a;\n",
    "a=eval(input(\"bir sayı gir len: \"))\n",
    "\n",
    "if(a<0):\n",
    "    x=-1*a\n",
    "    \n",
    "else:\n",
    "    print(a)\n",
    "print(x)"
   ]
  },
  {
   "cell_type": "code",
   "execution_count": 2,
   "id": "ae4eb861",
   "metadata": {},
   "outputs": [
    {
     "name": "stdout",
     "output_type": "stream",
     "text": [
      "1. sayı giriniz: 5\n",
      "2. sayı giriniz: -5\n",
      "3. sayı giriniz: 0\n",
      "number is positive\n",
      "number is negative\n",
      "number is equal to 0\n"
     ]
    }
   ],
   "source": [
    "def numberSign(x):\n",
    "    if(x>0):\n",
    "        print(\"number is positive\")\n",
    "    elif(x<0):\n",
    "        print(\"number is negative\")\n",
    "    else:\n",
    "        print(\"number is equal to 0\")\n",
    "d=eval(input(\"1. sayı giriniz: \"));\n",
    "e=eval(input(\"2. sayı giriniz: \"));\n",
    "f=eval(input(\"3. sayı giriniz: \"));\n",
    "numberSign(d)\n",
    "numberSign(e)\n",
    "numberSign(f)    "
   ]
  },
  {
   "cell_type": "code",
   "execution_count": null,
   "id": "9a12eb02",
   "metadata": {},
   "outputs": [],
   "source": []
  }
 ],
 "metadata": {
  "kernelspec": {
   "display_name": "Python 3 (ipykernel)",
   "language": "python",
   "name": "python3"
  },
  "language_info": {
   "codemirror_mode": {
    "name": "ipython",
    "version": 3
   },
   "file_extension": ".py",
   "mimetype": "text/x-python",
   "name": "python",
   "nbconvert_exporter": "python",
   "pygments_lexer": "ipython3",
   "version": "3.9.7"
  },
  "widgets": {
   "application/vnd.jupyter.widget-state+json": {
    "state": {},
    "version_major": 2,
    "version_minor": 0
   }
  }
 },
 "nbformat": 4,
 "nbformat_minor": 5
}
