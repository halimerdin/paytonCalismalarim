{
 "cells": [
  {
   "cell_type": "markdown",
   "id": "a53960ef",
   "metadata": {},
   "source": [
    "# İç içe Fonksiyonlar ve Fonksiyon Parametreleri\n",
    "\n",
    "Bu bölümle birlikte decorator fonksiyonların mantığını anlamaya çalışacağız. Decoratorları daha iyi anlamak için fonksiyonlara biraz daha derinlemesine bakmaya çalışalım.\n",
    "\n",
    "### ***args** ve ****kwargs**\n",
    "\n",
    "Fonksiyonlara argüman göndermenin esnek bir şekilde yapıldığını biliyoruz. İsterseniz ilk olarak yıldızlı argümanları hatırlamaya çalışalım."
   ]
  },
  {
   "cell_type": "code",
   "execution_count": 1,
   "id": "bd848e3e",
   "metadata": {},
   "outputs": [],
   "source": [
    "def func(*args):#istediğimiz sayıda argüman ekleye biliriz\n",
    "    print(args)\n",
    "    for i in args:\n",
    "        print(i)"
   ]
  },
  {
   "cell_type": "code",
   "execution_count": 2,
   "id": "ac816fbe",
   "metadata": {},
   "outputs": [
    {
     "name": "stdout",
     "output_type": "stream",
     "text": [
      "(1, 2, 3, 4)\n",
      "1\n",
      "2\n",
      "3\n",
      "4\n"
     ]
    }
   ],
   "source": [
    "func(1,2,3,4)"
   ]
  },
  {
   "cell_type": "code",
   "execution_count": 5,
   "id": "71d12e2a",
   "metadata": {},
   "outputs": [],
   "source": [
    "def func1(isim,*args):#istediğimiz sayıda argüman ekleye biliriz\n",
    "    print(isim,args)\n",
    "    for i in args:\n",
    "        print(i)"
   ]
  },
  {
   "cell_type": "code",
   "execution_count": 6,
   "id": "4a323828",
   "metadata": {},
   "outputs": [
    {
     "name": "stdout",
     "output_type": "stream",
     "text": [
      "halim (1, 2, 3, 4, 55)\n",
      "1\n",
      "2\n",
      "3\n",
      "4\n",
      "55\n"
     ]
    }
   ],
   "source": [
    "func1(\"halim\",1,2,3,4,55)"
   ]
  },
  {
   "cell_type": "code",
   "execution_count": 7,
   "id": "c3094b5d",
   "metadata": {},
   "outputs": [],
   "source": [
    "def func3(**kwargs):\n",
    "    print(kwargs)"
   ]
  },
  {
   "cell_type": "code",
   "execution_count": 8,
   "id": "b93e81a2",
   "metadata": {},
   "outputs": [
    {
     "name": "stdout",
     "output_type": "stream",
     "text": [
      "{'isim': 'halim', 'soyisim': 'erdin', 'numara': '123456'}\n"
     ]
    }
   ],
   "source": [
    "func3(isim=\"halim\",soyisim=\"erdin\",numara=\"123456\")"
   ]
  },
  {
   "cell_type": "markdown",
   "id": "8918368d",
   "metadata": {},
   "source": [
    "**kwargs**= key word arguments"
   ]
  },
  {
   "cell_type": "code",
   "execution_count": 9,
   "id": "8dc49f44",
   "metadata": {},
   "outputs": [],
   "source": [
    "def func4(**kwargs):\n",
    "    for i,j in kwargs.items():\n",
    "        print(\"arguman ismi: \",i,\"arguman değeri= \",j)"
   ]
  },
  {
   "cell_type": "code",
   "execution_count": 10,
   "id": "74e10c02",
   "metadata": {},
   "outputs": [
    {
     "name": "stdout",
     "output_type": "stream",
     "text": [
      "arguman ismi:  isim arguman değeri=  halim\n",
      "arguman ismi:  soyisim arguman değeri=  erdin\n",
      "arguman ismi:  numara arguman değeri=  123456\n"
     ]
    }
   ],
   "source": [
    "func4(isim= \"halim\",soyisim= \"erdin\",numara=\"123456\")"
   ]
  },
  {
   "cell_type": "code",
   "execution_count": 11,
   "id": "c836fbe3",
   "metadata": {},
   "outputs": [
    {
     "ename": "TypeError",
     "evalue": "func4() takes 0 positional arguments but 3 were given",
     "output_type": "error",
     "traceback": [
      "\u001b[1;31m---------------------------------------------------------------------------\u001b[0m",
      "\u001b[1;31mTypeError\u001b[0m                                 Traceback (most recent call last)",
      "\u001b[1;32m~\\AppData\\Local\\Temp/ipykernel_24772/3143232687.py\u001b[0m in \u001b[0;36m<module>\u001b[1;34m\u001b[0m\n\u001b[1;32m----> 1\u001b[1;33m \u001b[0mfunc4\u001b[0m\u001b[1;33m(\u001b[0m\u001b[1;34m\"halim\"\u001b[0m\u001b[1;33m,\u001b[0m\u001b[1;34m\"erdin\"\u001b[0m\u001b[1;33m,\u001b[0m\u001b[1;36m123456\u001b[0m\u001b[1;33m)\u001b[0m\u001b[1;33m\u001b[0m\u001b[1;33m\u001b[0m\u001b[0m\n\u001b[0m",
      "\u001b[1;31mTypeError\u001b[0m: func4() takes 0 positional arguments but 3 were given"
     ]
    }
   ],
   "source": [
    "func4(\"halim\",\"erdin\",123456)"
   ]
  },
  {
   "cell_type": "code",
   "execution_count": 12,
   "id": "f98cb64b",
   "metadata": {},
   "outputs": [
    {
     "name": "stdout",
     "output_type": "stream",
     "text": [
      "arguman ismi:  a arguman değeri=  halim\n",
      "arguman ismi:  b arguman değeri=  erdin\n",
      "arguman ismi:  c arguman değeri=  123456\n"
     ]
    }
   ],
   "source": [
    "func4(a= \"halim\",b= \"erdin\",c=\"123456\")"
   ]
  },
  {
   "cell_type": "markdown",
   "id": "cc69cc3e",
   "metadata": {},
   "source": [
    "Dikkat ederseniz 2 yıldız koyarak keyword argümanlar ile (anahtar kelimeli argümanlar) fonksiyonumuzu tanımladık ve argümanlara isim vererek fonksiyonumuzu çağırdığımızda isimleri anahtar kelime , argüman değerlerini değer olarak alarak fonksiyonumuz sözlük oluşturdu. İşte keyword argümanlar bu şekilde kullanılabiliyor.\n"
   ]
  },
  {
   "cell_type": "code",
   "execution_count": 13,
   "id": "371ac178",
   "metadata": {},
   "outputs": [],
   "source": [
    "def func5(*args,**kwarg):\n",
    "    for i in args:\n",
    "        print(\"argumanlar:\",i)\n",
    "    print(\"**********\")\n",
    "    for i,j in kwarg.items():\n",
    "        print(\"arguman ismi: \",i,\"arguman değeri= \",j)"
   ]
  },
  {
   "cell_type": "code",
   "execution_count": 15,
   "id": "7a9361d1",
   "metadata": {},
   "outputs": [
    {
     "name": "stdout",
     "output_type": "stream",
     "text": [
      "argumanlar: 1\n",
      "argumanlar: 2\n",
      "argumanlar: 3\n",
      "argumanlar: 4\n",
      "argumanlar: 5\n",
      "argumanlar: 6\n",
      "argumanlar: 7\n",
      "**********\n",
      "arguman ismi:  isim arguman değeri=  halim\n",
      "arguman ismi:  soyisim arguman değeri=  erdin\n",
      "arguman ismi:  numara arguman değeri=  12345\n"
     ]
    }
   ],
   "source": [
    "func5(1,2,3,4,5,6,7,isim = \"halim\",soyisim = \"erdin\", numara = 12345)"
   ]
  },
  {
   "cell_type": "markdown",
   "id": "ccc9efbd",
   "metadata": {},
   "source": [
    "## İç içe fonksiyonlar\n",
    "\n",
    "Pythonda fonksiyonlar da birer obje oldukları için hem bir tane değişkene atanabilirler, hem de başka bir fonksiyonun içinde tanımlanabilirler. Şimdi bunlara bakmaya başlayalım."
   ]
  },
  {
   "cell_type": "code",
   "execution_count": 16,
   "id": "d8ca879e",
   "metadata": {},
   "outputs": [
    {
     "name": "stdout",
     "output_type": "stream",
     "text": [
      "selam halim\n"
     ]
    }
   ],
   "source": [
    "def sayHi(isim):\n",
    "    print(\"selam\",isim)\n",
    "sayHi(\"halim\")"
   ]
  },
  {
   "cell_type": "code",
   "execution_count": 17,
   "id": "8082a702",
   "metadata": {},
   "outputs": [],
   "source": [
    "# Bir tane değişkene atıyoruz.\n",
    "\n",
    "merhaba = sayHi"
   ]
  },
  {
   "cell_type": "code",
   "execution_count": 19,
   "id": "412a15b3",
   "metadata": {},
   "outputs": [
    {
     "data": {
      "text/plain": [
       "<function __main__.sayHi(isim)>"
      ]
     },
     "execution_count": 19,
     "metadata": {},
     "output_type": "execute_result"
    }
   ],
   "source": [
    "merhaba # Obje tipi fonksiyon oldu."
   ]
  },
  {
   "cell_type": "code",
   "execution_count": 21,
   "id": "95d57179",
   "metadata": {},
   "outputs": [
    {
     "data": {
      "text/plain": [
       "<function __main__.sayHi(isim)>"
      ]
     },
     "execution_count": 21,
     "metadata": {},
     "output_type": "execute_result"
    }
   ],
   "source": [
    "sayHi # Obje tipi fonksiyon"
   ]
  },
  {
   "cell_type": "code",
   "execution_count": 22,
   "id": "7f5b04a1",
   "metadata": {},
   "outputs": [
    {
     "name": "stdout",
     "output_type": "stream",
     "text": [
      "selam halim\n"
     ]
    }
   ],
   "source": [
    "merhaba(\"halim\") # Fonksiyon olduğu için artık bu isimle de kullanabilirim."
   ]
  },
  {
   "cell_type": "code",
   "execution_count": 23,
   "id": "554e4e34",
   "metadata": {},
   "outputs": [],
   "source": [
    "del sayHi # fonksiyonu siliyoruz"
   ]
  },
  {
   "cell_type": "code",
   "execution_count": 24,
   "id": "303c00f9",
   "metadata": {},
   "outputs": [
    {
     "ename": "NameError",
     "evalue": "name 'sayHi' is not defined",
     "output_type": "error",
     "traceback": [
      "\u001b[1;31m---------------------------------------------------------------------------\u001b[0m",
      "\u001b[1;31mNameError\u001b[0m                                 Traceback (most recent call last)",
      "\u001b[1;32m~\\AppData\\Local\\Temp/ipykernel_24772/1138747588.py\u001b[0m in \u001b[0;36m<module>\u001b[1;34m\u001b[0m\n\u001b[1;32m----> 1\u001b[1;33m \u001b[0msayHi\u001b[0m\u001b[1;33m\u001b[0m\u001b[1;33m\u001b[0m\u001b[0m\n\u001b[0m",
      "\u001b[1;31mNameError\u001b[0m: name 'sayHi' is not defined"
     ]
    }
   ],
   "source": [
    "sayHi"
   ]
  },
  {
   "cell_type": "code",
   "execution_count": 25,
   "id": "21435e9a",
   "metadata": {},
   "outputs": [
    {
     "name": "stdout",
     "output_type": "stream",
     "text": [
      "selam ibraam\n"
     ]
    }
   ],
   "source": [
    "merhaba(\"ibraam\") # selamla objesi silinmesine rağmen merhaba objesi silinmedi."
   ]
  },
  {
   "cell_type": "code",
   "execution_count": 26,
   "id": "9e70c476",
   "metadata": {},
   "outputs": [],
   "source": [
    "def fonksiyon():\n",
    "    def fonksiyon2():\n",
    "        print(\"Küçük fonksiyondan Merhaba\")\n",
    "    print(\"Büyük fonksiyondan Merhaba\")\n",
    "    fonksiyon2() # Tanımladığım fonksiyonu kullanabilirim."
   ]
  },
  {
   "cell_type": "code",
   "execution_count": 27,
   "id": "860d7388",
   "metadata": {},
   "outputs": [
    {
     "name": "stdout",
     "output_type": "stream",
     "text": [
      "Büyük fonksiyondan Merhaba\n",
      "Küçük fonksiyondan Merhaba\n"
     ]
    }
   ],
   "source": [
    "fonksiyon()"
   ]
  },
  {
   "cell_type": "code",
   "execution_count": 28,
   "id": "a5036574",
   "metadata": {},
   "outputs": [
    {
     "ename": "NameError",
     "evalue": "name 'fonksiyon2' is not defined",
     "output_type": "error",
     "traceback": [
      "\u001b[1;31m---------------------------------------------------------------------------\u001b[0m",
      "\u001b[1;31mNameError\u001b[0m                                 Traceback (most recent call last)",
      "\u001b[1;32m~\\AppData\\Local\\Temp/ipykernel_24772/2748122747.py\u001b[0m in \u001b[0;36m<module>\u001b[1;34m\u001b[0m\n\u001b[1;32m----> 1\u001b[1;33m \u001b[0mfonksiyon2\u001b[0m\u001b[1;33m(\u001b[0m\u001b[1;33m)\u001b[0m \u001b[1;31m# Lokal bir değişken olduğu için fonksiyon() çağrısından sonra yok oldu.\u001b[0m\u001b[1;33m\u001b[0m\u001b[1;33m\u001b[0m\u001b[0m\n\u001b[0m",
      "\u001b[1;31mNameError\u001b[0m: name 'fonksiyon2' is not defined"
     ]
    }
   ],
   "source": [
    "fonksiyon2() # Lokal bir değişken olduğu için fonksiyon() çağrısından sonra yok oldu."
   ]
  },
  {
   "cell_type": "code",
   "execution_count": 34,
   "id": "55b0032a",
   "metadata": {},
   "outputs": [],
   "source": [
    "def func6(*args): #arg=(1,2,3,4,5,6)\n",
    "    toplam=0\n",
    "    def add(args): #(1,2,3,4,5,6)\n",
    "        toplam=0\n",
    "        for i in args:\n",
    "            toplam+=i\n",
    "        return toplam\n",
    "    print(add(args))"
   ]
  },
  {
   "cell_type": "code",
   "execution_count": 35,
   "id": "7a12c6a8",
   "metadata": {},
   "outputs": [
    {
     "name": "stdout",
     "output_type": "stream",
     "text": [
      "21\n"
     ]
    }
   ],
   "source": [
    "func6(1,2,3,4,5,6)"
   ]
  },
  {
   "cell_type": "code",
   "execution_count": null,
   "id": "56b9b507",
   "metadata": {},
   "outputs": [],
   "source": []
  }
 ],
 "metadata": {
  "kernelspec": {
   "display_name": "Python 3 (ipykernel)",
   "language": "python",
   "name": "python3"
  },
  "language_info": {
   "codemirror_mode": {
    "name": "ipython",
    "version": 3
   },
   "file_extension": ".py",
   "mimetype": "text/x-python",
   "name": "python",
   "nbconvert_exporter": "python",
   "pygments_lexer": "ipython3",
   "version": "3.9.7"
  }
 },
 "nbformat": 4,
 "nbformat_minor": 5
}
