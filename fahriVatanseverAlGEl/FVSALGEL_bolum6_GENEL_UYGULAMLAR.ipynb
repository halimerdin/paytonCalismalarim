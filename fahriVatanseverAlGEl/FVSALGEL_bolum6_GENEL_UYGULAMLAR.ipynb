{
 "cells": [
  {
   "cell_type": "markdown",
   "id": "e9da2970",
   "metadata": {},
   "source": [
    "### GENEL UYGULAMALAR"
   ]
  },
  {
   "cell_type": "markdown",
   "id": "dd98e504",
   "metadata": {},
   "source": [
    "**001**-klavyeden kenar uzunluğu ve o kenara ait yüksekliği girilen üçgenin alanının hesabı"
   ]
  },
  {
   "cell_type": "code",
   "execution_count": 5,
   "id": "2d6b417e",
   "metadata": {},
   "outputs": [
    {
     "name": "stdout",
     "output_type": "stream",
     "text": [
      "kenar uzunluğunu giriniz: 5\n",
      "yüseliği uzunluğunu giriniz: 4\n",
      "üçgenin alanı: 10.0\n"
     ]
    }
   ],
   "source": [
    "a=float(input(\"kenar uzunluğunu giriniz: \"))\n",
    "h=float(input(\"yüseliği uzunluğunu giriniz: \"))\n",
    "alan=a*h/2\n",
    "print(\"üçgenin alanı: {0}\".format(alan))"
   ]
  },
  {
   "cell_type": "markdown",
   "id": "5ce6bcf4",
   "metadata": {},
   "source": [
    "**002**-klavyeden derece cinsinden girilen açıyı radyan ve gradyan cinsine dönüştürme\n",
    "*****\n",
    "**d/180=r/pi=g/200**"
   ]
  },
  {
   "cell_type": "code",
   "execution_count": 2,
   "id": "ece65742",
   "metadata": {},
   "outputs": [],
   "source": [
    "import numpy as ny\n",
    "import math as mt"
   ]
  },
  {
   "cell_type": "code",
   "execution_count": 11,
   "id": "3e478469",
   "metadata": {},
   "outputs": [
    {
     "name": "stdout",
     "output_type": "stream",
     "text": [
      "derece giriniz: 50\n",
      "radyan= 0.8726646259971648\n",
      "gradyen= 55.55555555555556\n"
     ]
    }
   ],
   "source": [
    "derece=float(input(\"derece giriniz: \"))\n",
    "radyan=derece*mt.pi/180\n",
    "gradyen=derece*200/180\n",
    "print(\"radyan= {0}\".format(radyan))\n",
    "print(\"gradyen= {0}\".format(gradyen))"
   ]
  },
  {
   "cell_type": "markdown",
   "id": "51198cf2",
   "metadata": {},
   "source": [
    "**003**-klavyeden 2 kenarı ve derece cinsinden aradaki açısı verilen üçgenin alanını hesaplayan program\n",
    "*****\n",
    "2 kenarı ve arasındaki açısı bilinen üçgenin alanı= **a.b.sin(w.pi/180)/2**\n",
    "******\n",
    "burada girilen açı radyan cinsinden olmalı "
   ]
  },
  {
   "cell_type": "code",
   "execution_count": 14,
   "id": "b6476f91",
   "metadata": {},
   "outputs": [
    {
     "name": "stdout",
     "output_type": "stream",
     "text": [
      "ilk kenarı giriniz: 5\n",
      "diğer kenarı giriniz: 4\n",
      "açıyı giriniz: 30\n",
      "değerleri girilen üçgenin alanı: 4.999999999999999\n"
     ]
    }
   ],
   "source": [
    "a=int(input(\"ilk kenarı giriniz: \"))\n",
    "b=int(input(\"diğer kenarı giriniz: \"))\n",
    "w=int(input(\"açıyı giriniz: \"))\n",
    "alan=a*b*mt.sin(w*mt.pi/180)/2\n",
    "print(\"değerleri girilen üçgenin alanı: {0}\".format(alan))"
   ]
  },
  {
   "cell_type": "markdown",
   "id": "af510341",
   "metadata": {},
   "source": [
    "**004**- klavyeden 2 dik kenarı girilen dik üçgenin hipotenüsünü hesaplayan program **c=sqrt(a^2 +b^2)**"
   ]
  },
  {
   "cell_type": "code",
   "execution_count": 16,
   "id": "eedac93e",
   "metadata": {},
   "outputs": [
    {
     "name": "stdout",
     "output_type": "stream",
     "text": [
      "bir dik kenar uzunluğu giriniz: 3\n",
      "diğer dik kenar uzunluğunu giriniz: 4\n",
      "hipotenus uzunluğu= 5.0\n"
     ]
    }
   ],
   "source": [
    "a=float(input(\"bir dik kenar uzunluğu giriniz: \"))\n",
    "b=float(input(\"diğer dik kenar uzunluğunu giriniz: \"))\n",
    "c=mt.sqrt(a**2 + b**2)\n",
    "print(\"hipotenus uzunluğu= {0}\".format(c))"
   ]
  },
  {
   "cell_type": "markdown",
   "id": "94c5def9",
   "metadata": {},
   "source": [
    "**005**- klavyeden iki kenarı ve bunların arasındaki derece cinsinden açısı girilen üçgenin üçüncü kenarını hesaplayan program\n",
    "****\n",
    "**c^2=a^2+b^2-2.a.b.cos(derece.pi/180)**"
   ]
  },
  {
   "cell_type": "code",
   "execution_count": 18,
   "id": "1090ee29",
   "metadata": {},
   "outputs": [
    {
     "name": "stdout",
     "output_type": "stream",
     "text": [
      "bir  kenar uzunluğu giriniz: 3\n",
      "diğer kenar uzunluğunu giriniz: 4\n",
      "açıyı giriniz: 90\n",
      "üçüncü kenar uzunluğu= 5.0\n"
     ]
    }
   ],
   "source": [
    "a=eval(input(\"bir  kenar uzunluğu giriniz: \"))\n",
    "b=eval(input(\"diğer kenar uzunluğunu giriniz: \"))\n",
    "w=eval(input(\"açıyı giriniz: \"))\n",
    "c=mt.sqrt(a**2+b**2-2*a*b*mt.cos(w*mt.pi/180))\n",
    "print(\"üçüncü kenar uzunluğu= {0}\".format(c))"
   ]
  },
  {
   "cell_type": "markdown",
   "id": "a7d8e36b",
   "metadata": {},
   "source": [
    "**006**-klavyeden köşegenleri ve arasındaki derece cinsinden açısı girilen dikdörtgenin alanını hesaplayan program\n",
    "*****\n",
    "**alan=a.b.sin(derece.pi/180)/2**"
   ]
  },
  {
   "cell_type": "code",
   "execution_count": 9,
   "id": "539aeb1f",
   "metadata": {},
   "outputs": [
    {
     "name": "stdout",
     "output_type": "stream",
     "text": [
      "bir  köşegen uzunluğu giriniz: 5\n",
      "diğer köşegen uzunluğunu giriniz: 4\n",
      "açıyı giriniz: 30\n",
      "değerleri girilen kosegenin alanı= 4.999999999999999\n"
     ]
    }
   ],
   "source": [
    "def kosegenAlan(x , y, beta):\n",
    "    alan=x*y*mt.sin(beta*mt.pi/180)/2\n",
    "    return alan\n",
    "\n",
    "a=eval(input(\"bir  köşegen uzunluğu giriniz: \"))\n",
    "b=eval(input(\"diğer köşegen uzunluğunu giriniz: \"))\n",
    "w=eval(input(\"açıyı giriniz: \"))\n",
    "al=kosegenAlan(a,b,w)\n",
    "print(\"değerleri girilen kosegenin alanı= {0}\".format(al))"
   ]
  },
  {
   "cell_type": "markdown",
   "id": "a0134798",
   "metadata": {},
   "source": [
    "**007**-klavyeden yarıçap girilen kürenin alanını ve hacmini hesaplama\n",
    "*****\n",
    "**alan=4.pi.r^2** ve **hacim=4.pi.r^3/3**"
   ]
  },
  {
   "cell_type": "code",
   "execution_count": 21,
   "id": "7bf838f6",
   "metadata": {},
   "outputs": [
    {
     "name": "stdout",
     "output_type": "stream",
     "text": [
      "yarı çapı giriniz: 5\n",
      "kurenin yuzey alanı= 314.1592653589793 ve kurenin hacmi= 523.5987755982989\n"
     ]
    }
   ],
   "source": [
    "def kureYuzeyAlani(r):\n",
    "    alan=4*mt.pi*r**2\n",
    "    return alan\n",
    "def kuruHacim(r):\n",
    "    hacim=(4*mt.pi*r**3)/3\n",
    "    return hacim\n",
    "\n",
    "r=eval(input(\"yarı çapı giriniz: \"))\n",
    "yuzeyAlani=kureYuzeyAlani(r)\n",
    "hacim=kuruHacim(r)\n",
    "print(\"kurenin yuzey alanı= {0} ve kurenin hacmi= {1}\".format(yuzeyAlani,hacim))"
   ]
  },
  {
   "cell_type": "markdown",
   "id": "43662fe9",
   "metadata": {},
   "source": [
    "**008**-yarı çapı ve derece cinsinden degeri verilen daire diliminin alanını hesaplayan program\n",
    "*****\n",
    "**alan=açı.pi.r^2/360**"
   ]
  },
  {
   "cell_type": "code",
   "execution_count": 22,
   "id": "4a4d3584",
   "metadata": {},
   "outputs": [
    {
     "name": "stdout",
     "output_type": "stream",
     "text": [
      "yarıçapı giriniz: 5\n",
      "dereceyi giriniz:30\n",
      "daire dilimin alanı= 2.0833333333333335 m^2'dir\n"
     ]
    }
   ],
   "source": [
    "def daireDilimiAlani(r,w):\n",
    "    alan=(w*r**2)/360\n",
    "    return alan\n",
    "a=eval(input(\"yarıçapı giriniz: \"))\n",
    "b=eval(input(\"dereceyi giriniz:\"))\n",
    "alan=daireDilimiAlani(a,b)\n",
    "print(\"daire dilimin alanı= {0} m^2'dir\".format(alan))"
   ]
  },
  {
   "cell_type": "markdown",
   "id": "77d321c6",
   "metadata": {},
   "source": [
    "**009**-tüm kenar uzunlukları girilen üçgenin alanını hesaplayan program **heron formula**\n",
    "*****\n",
    "**u=(a+b+c)/2** ve **alan=sqrt(u.(u-a).(u-b).(u-c))**"
   ]
  },
  {
   "cell_type": "code",
   "execution_count": 26,
   "id": "b746f9e7",
   "metadata": {},
   "outputs": [
    {
     "name": "stdout",
     "output_type": "stream",
     "text": [
      "birinci kenar uzunluğu: 3\n",
      "ikinci kenar uzunluğu: 4\n",
      "üçünci kenar uzunluğu: 5\n",
      "ölçüleri girilen üçgenin alanı= 6.0\n"
     ]
    }
   ],
   "source": [
    "def heronFormula(a,b,c):\n",
    "    u=(a+b+c)/2\n",
    "    alan=mt.sqrt(u*(u-a)*(u-b)*(u-c))\n",
    "    return alan\n",
    "x=eval(input(\"birinci kenar uzunluğu: \"))\n",
    "y=eval(input(\"ikinci kenar uzunluğu: \"))\n",
    "z=eval(input(\"üçünci kenar uzunluğu: \"))\n",
    "ucgeninAlani=heronFormula(x,y,z)\n",
    "print(\"ölçüleri girilen üçgenin alanı= {}\".format(ucgeninAlani))"
   ]
  },
  {
   "cell_type": "markdown",
   "id": "e004fe45",
   "metadata": {},
   "source": [
    "**010**- kütlesi hizi ve yerden yuksekligi girilen maddenin potansiyel ve kinetik nerjisini hesaplayan program\n",
    "*****\n",
    "**potansiyelEnerji= m.g.h** ve **kinetik enerji= (m.v^2)/2**\n"
   ]
  },
  {
   "cell_type": "code",
   "execution_count": 28,
   "id": "009840a2",
   "metadata": {},
   "outputs": [
    {
     "name": "stdout",
     "output_type": "stream",
     "text": [
      "cismin kütlesini giriniz: 5\n",
      "cismin yüksekliğini giriniz: 4\n",
      "cismin hızını giriniz: 4\n",
      "cismin kinetik enerjisi= 40.0J ve potansiyel enejisi= 196.0J'dür\n"
     ]
    }
   ],
   "source": [
    "def kinEner(m,v):\n",
    "    ek=(m*v**2)/2\n",
    "    return ek\n",
    "def potEner(m,h):\n",
    "    ep=m*9.8*h\n",
    "    return ep\n",
    "mass=eval(input(\"cismin kütlesini giriniz: \"))\n",
    "height=eval(input(\"cismin yüksekliğini giriniz: \"))\n",
    "velocity=eval(input(\"cismin hızını giriniz: \"))\n",
    "Ek=kinEner(mass,velocity)\n",
    "Ep=potEner(mass,height)\n",
    "print(\"cismin kinetik enerjisi= {0}J ve potansiyel enejisi= {1}J'dür\".format(Ek,Ep))"
   ]
  },
  {
   "cell_type": "markdown",
   "id": "013e745a",
   "metadata": {},
   "source": [
    "**018** girilen sayının çift mi tek olduğunun bulunması\n"
   ]
  },
  {
   "cell_type": "code",
   "execution_count": 32,
   "id": "0de1b4b0",
   "metadata": {},
   "outputs": [
    {
     "name": "stdout",
     "output_type": "stream",
     "text": [
      "lütfen tam sayı giriniz\n",
      "bir sayı giriniz: 5\n",
      "girilen sayı tek bir sayıdır\n"
     ]
    }
   ],
   "source": [
    "def oddEven(x):\n",
    "    if(x>=0):\n",
    "        a=x%2\n",
    "        if(a==1):\n",
    "            return \"tek\"\n",
    "        else:\n",
    "            return \"çift\"\n",
    "    else:\n",
    "        print(\"lütfen sıfır ve sıfırdan buyuk bir sayı giriniz!\")\n",
    "        \n",
    "print(\"lütfen tam sayı giriniz\")    \n",
    "a=eval(input(\"bir sayı giriniz: \"))\n",
    "b=oddEven(a)\n",
    "print(\"girilen sayı {0} bir sayıdır\".format(b))"
   ]
  },
  {
   "cell_type": "markdown",
   "id": "d5009a38",
   "metadata": {},
   "source": [
    "**019** girilen x sayısının girilen y sayısına tam bölünüp bölünmediğini veren program\n"
   ]
  },
  {
   "cell_type": "code",
   "execution_count": 44,
   "id": "7de255c7",
   "metadata": {},
   "outputs": [
    {
     "name": "stdout",
     "output_type": "stream",
     "text": [
      "a yı giriniz: 4/5\n",
      "b yı giriniz: 4\n",
      "a, b'ye tam bolunmuyor\n"
     ]
    }
   ],
   "source": [
    "def tamBolunme(x,y):\n",
    "    ab=x % y\n",
    "    if(ab==0):\n",
    "        print(\"a, b'ye tam bolunuyor\")\n",
    "    else:\n",
    "        print(\"a, b'ye tam bolunmuyor\")\n",
    "        \n",
    "t=eval(input(\"a yı giriniz: \"))\n",
    "u=eval(input(\"b yı giriniz: \"))\n",
    "tamBolunme(t,u)"
   ]
  },
  {
   "cell_type": "markdown",
   "id": "ece71425",
   "metadata": {},
   "source": [
    "**017**--ideal birtafonun primer tarafıan ait gerilim akım ve sarım sayısıyla sekonder tarafına ait sarım sayısı klavyeden girilmektedir.Buna göre sekondere ait gerilim akım ve güç değerlerini hesaplayıp türünü tespit eden program\n",
    "****\n",
    "**Vp/Vs=Np/Ns=Is/Ip**"
   ]
  },
  {
   "cell_type": "code",
   "execution_count": 9,
   "id": "beff3095",
   "metadata": {},
   "outputs": [
    {
     "name": "stdout",
     "output_type": "stream",
     "text": [
      "primer gerilimini giriniz: 4\n",
      "primer akımını giriniz: 4\n",
      "primer sarım sayısını giriniz: 4\n",
      "sekonder sarım sayısını giriniz: 4\n",
      "alçaltıcı\n",
      "sekonder akımı= 4.0Amper, sekonder gerilimi= 4.0Volt ve sekonder gücü= 16.0Watt'tır.\n"
     ]
    }
   ],
   "source": [
    "def trafo(Vp,Ip,Np,Ns):\n",
    "    if(Np>0 and Ns>0):\n",
    "        Is=Np*Ip/Ns\n",
    "        Vs=Vp*Ns/Np\n",
    "        Ps=Vs*Is\n",
    "        if(Vs>Vp):\n",
    "            print(\"yükseltici\")\n",
    "        else:\n",
    "            print(\"alçaltıcı\")\n",
    "        return Is,Vs,Ps\n",
    "    else:\n",
    "        print(\"sarım sayısı negatif ve sıfır olamaz\")\n",
    "        \n",
    "Vp=eval(input(\"primer gerilimini giriniz: \"))\n",
    "Ip=eval(input(\"primer akımını giriniz: \"))\n",
    "Np=eval(input(\"primer sarım sayısını giriniz: \"))\n",
    "Ns=eval(input(\"sekonder sarım sayısını giriniz: \"))\n",
    "a=trafo(Vp,Ip,Np,Ns)\n",
    "print(\"sekonder akımı= {0}Amper, sekonder gerilimi= {1}Volt ve sekonder gücü= {2}Watt'tır.\".format(a[0],a[1],a[2]))"
   ]
  },
  {
   "cell_type": "markdown",
   "id": "e42d71b0",
   "metadata": {},
   "source": [
    "**020** bir tam pozitif tam sayının tam bölenlerini hesaplayan program"
   ]
  },
  {
   "cell_type": "code",
   "execution_count": 2,
   "id": "1917f2a5",
   "metadata": {},
   "outputs": [
    {
     "name": "stdout",
     "output_type": "stream",
     "text": [
      "bir pozitif tam sayı giriniz: 4\n",
      "1\n",
      "2\n",
      "4\n"
     ]
    }
   ],
   "source": [
    "def tamBolenSayisi(a):\n",
    "    for i in range(1,a+1):\n",
    "        if(a%i==0):\n",
    "            print(\"%d\"%i)\n",
    "x=int(input(\"bir pozitif tam sayı giriniz: \"))    \n",
    "tamBolenSayisi(x)"
   ]
  },
  {
   "cell_type": "markdown",
   "id": "a31a93c9",
   "metadata": {},
   "source": [
    "**021**- girilen n sayısına göre 1'den n'e kadar tam sayıların toplamı t1,1'den n'e kadar tam tek sayıların toplamı t2,2'den n'e kadar tam çift sayıların toplamı t3 hesaplayn program"
   ]
  },
  {
   "cell_type": "code",
   "execution_count": 13,
   "id": "ad5231fa",
   "metadata": {},
   "outputs": [
    {
     "name": "stdout",
     "output_type": "stream",
     "text": [
      "bir tam sayı giriniz: 5\n",
      "girilen sayının tek tam satı toplamı= 9\n",
      "girilen sayının tam satı toplamı= 15\n",
      "girilen sayının çift tam satı toplamı= 18\n"
     ]
    }
   ],
   "source": [
    "def tamSayiToplami(n):\n",
    "    t1=0\n",
    "    for i in range(1,n+1):\n",
    "        t1+=i\n",
    "    return t1\n",
    "def tekTamSayiToplami(n):\n",
    "    t2=0\n",
    "    for i in range(1,n+1,2):\n",
    "        t2+=i\n",
    "    return t2\n",
    "def ciftTamSayiToplami(n):\n",
    "    t3=0\n",
    "    for a in range(2,n+1,2):\n",
    "        t3+=i\n",
    "    return t3\n",
    "\n",
    "a=[]\n",
    "n=int(input(\"bir tam sayı giriniz: \"))\n",
    "a=[tamSayiToplami(n),tekTamSayiToplami(n),ciftTamSayiToplami(n)]\n",
    "print(\"girilen sayının tek tam satı toplamı= {0}\".format(a[1]))\n",
    "print(\"girilen sayının tam satı toplamı= {0}\".format(a[0]))\n",
    "print(\"girilen sayının çift tam satı toplamı= {0}\".format(a[2]))"
   ]
  },
  {
   "cell_type": "markdown",
   "id": "bc843fee",
   "metadata": {},
   "source": [
    "**022** eleman sayısı girilen bir kümenin belirtilen kombinasyonlarının sayısını hesaplayan program\n",
    "******\n",
    "**c(n,r)=(n!)/(r!.(n-r)!)** olarak hesaplanır. işlemi basitleştirmek için ***f1=n!, f2=r!, f3=(n-r)! ve k=f1/(f2.f3)***"
   ]
  },
  {
   "cell_type": "code",
   "execution_count": 15,
   "id": "0f40d41f",
   "metadata": {},
   "outputs": [
    {
     "name": "stdout",
     "output_type": "stream",
     "text": [
      "bir sayı giriniz: 4\n",
      "1\n",
      "2\n",
      "6\n",
      "24\n"
     ]
    }
   ],
   "source": [
    "# faktöriyel hesabı\n",
    "a=int(input(\"bir sayı giriniz: \"))\n",
    "f1=1\n",
    "for i in range(1,n):\n",
    "    f1*=i\n",
    "    print(f1)"
   ]
  },
  {
   "cell_type": "code",
   "execution_count": 29,
   "id": "dac2935f",
   "metadata": {},
   "outputs": [
    {
     "name": "stdout",
     "output_type": "stream",
     "text": [
      "eleman sayısı giriniz: 5\n",
      "alt küme sayısı giriniz: 3\n",
      "f1= 120, f2= 6, f3=2 k= 10.0\n"
     ]
    }
   ],
   "source": [
    "def f1f2Hesabi(x):\n",
    "    f1=1\n",
    "    for i in range(1,x+1):\n",
    "        f1*=i\n",
    "    return f1\n",
    "def f3Hesabi(q,w):\n",
    "    f3=1\n",
    "    for i in range(1,q-w+1):\n",
    "        f3*=i\n",
    "    return f3\n",
    "n=int(input(\"eleman sayısı giriniz: \"))\n",
    "r=int(input(\"alt küme sayısı giriniz: \"))\n",
    "a1=f1f2Hesabi(n)\n",
    "a2=f1f2Hesabi(r)\n",
    "a3=f3Hesabi(n,r)\n",
    "k=a1/(a2*a3)\n",
    "print(\"f1= {0}, f2= {1}, f3={2} k= {3}\".format(a1,a2,a3,k))"
   ]
  },
  {
   "cell_type": "code",
   "execution_count": 28,
   "id": "abee66ae",
   "metadata": {},
   "outputs": [
    {
     "name": "stdout",
     "output_type": "stream",
     "text": [
      "4\n",
      "1 1\n",
      "2 2\n",
      "6 3\n",
      "24 4\n"
     ]
    }
   ],
   "source": [
    "x=int(input())\n",
    "f1=1\n",
    "for i in range(1,x+1):\n",
    "    f1=f1*i\n",
    "    print(f1,i)\n",
    "    "
   ]
  },
  {
   "cell_type": "markdown",
   "id": "91e6695f",
   "metadata": {},
   "source": [
    "**023**-katsayıları girilen birinci dereceden debklemin kökünü hesaplayan program\n",
    "********\n",
    "a!=0 olmak üzere *ax+b=c* debkleminin kökü **x=(c-b)/a** olarak hesaplanır."
   ]
  },
  {
   "cell_type": "code",
   "execution_count": 14,
   "id": "e9c21e0d",
   "metadata": {},
   "outputs": [
    {
     "name": "stdout",
     "output_type": "stream",
     "text": [
      "ax+b=c denkleminin kökünün hesaplanması: \n",
      "a değerini giriniz: 2\n",
      "b değerini giriniz: 3\n",
      "c değerini giriniz: 7\n",
      "verilen denklemin kökü= 2.0\n"
     ]
    }
   ],
   "source": [
    "def birinciDerecedenDenklemKoku(a,b,c):\n",
    "    x=(c-b)/a\n",
    "    return x\n",
    "print(\"ax+b=c denkleminin kökünün hesaplanması: \")\n",
    "a=int(input(\"a değerini giriniz: \"))\n",
    "while(a==0):\n",
    "    print(\"lütfen sıfırdan farklı bir değer giriniz\")\n",
    "    a=int(input(\"a değerini giriniz: \"))\n",
    "b=int(input(\"b değerini giriniz: \"))\n",
    "c=int(input(\"c değerini giriniz: \"))\n",
    "t=birinciDerecedenDenklemKoku(a,b,c)\n",
    "print(\"verilen denklemin kökü= {}\".format(t))"
   ]
  },
  {
   "cell_type": "markdown",
   "id": "018c904c",
   "metadata": {},
   "source": [
    "**024** **ax+by=c**-**dx+ey=f** iki bilinmeyenli iki denklemden oluşan sistemi çözen program\n"
   ]
  },
  {
   "cell_type": "code",
   "execution_count": 16,
   "id": "1a89926f",
   "metadata": {},
   "outputs": [
    {
     "name": "stdout",
     "output_type": "stream",
     "text": [
      "a değerini giriniz:1\n",
      "b değerini giriniz:2\n",
      "c değerini giriniz:3\n",
      "d değerini giriniz:4\n",
      "e değerini giriniz:5\n",
      "f değerini giriniz:6\n",
      "iki bilinmeyenli denklemde x= -1.0 ve y= 2.0\n"
     ]
    }
   ],
   "source": [
    "def ikiBilinmeyenliIkiDenklem(a,b,c,d,e,f):\n",
    "    x=(c-b*f/e)/(a-b*d/e)\n",
    "    y=(c-a*x)/b\n",
    "    return x,y\n",
    "u=[]\n",
    "a=int(input(\"a değerini giriniz:\"))\n",
    "b=int(input(\"b değerini giriniz:\"))\n",
    "c=int(input(\"c değerini giriniz:\"))\n",
    "d=int(input(\"d değerini giriniz:\"))\n",
    "e=int(input(\"e değerini giriniz:\"))\n",
    "f=int(input(\"f değerini giriniz:\"))\n",
    "u=ikiBilinmeyenliIkiDenklem(a,b,c,d,e,f)\n",
    "print(\"iki bilinmeyenli denklemde x= {0} ve y= {1}\".format(u[0],u[1]))"
   ]
  },
  {
   "cell_type": "markdown",
   "id": "66836c78",
   "metadata": {},
   "source": [
    "**025** A!=0 olmak üzere katsayıları girilen ikinci dereceden denklemin köklerini hesaplayan program\n",
    "****\n",
    "Ax^2+Bx+C=0 ve **delta=B^2-4AC** \n",
    "*****\n",
    "**delta>0 x1,2=(-B+(-)sgrt(delta))/2A**\n",
    "***\n",
    "**delta=0 x1=x2=-B/2A**\n",
    "***\n",
    "**delta<0 sanal kökler**"
   ]
  },
  {
   "cell_type": "code",
   "execution_count": 21,
   "id": "9f9cec57",
   "metadata": {},
   "outputs": [
    {
     "name": "stdout",
     "output_type": "stream",
     "text": [
      "A= 1\n",
      "B= 5\n",
      "C= 6\n",
      "denklemin kölerinden x1= -2.0 ve x2= -3.0\n"
     ]
    }
   ],
   "source": [
    "import math as mt\n",
    "def ikinciDerecedenDenklem(a,b,c):\n",
    "    delta=b**2-4*a*c\n",
    "    if(delta>0):\n",
    "        x1=(-b+mt.sqrt(delta))/2*a\n",
    "        x2=(-b-mt.sqrt(delta))/2*a\n",
    "        print(\"denklemin kölerinden x1= {0} ve x2= {1}\".format(x1,x2))\n",
    "        \n",
    "    elif(delta==0):\n",
    "        x=-b/2*a\n",
    "        print(\"denklemin kökleri x1=x2= {0}\".format(x))\n",
    "        \n",
    "    else:\n",
    "        print(\"sanal kökler\")\n",
    "A=eval(input(\"A= \"));B=eval(input(\"B= \"));C=eval(input(\"C= \"));\n",
    "ikinciDerecedenDenklem(A,B,C)"
   ]
  },
  {
   "cell_type": "code",
   "execution_count": null,
   "id": "c89620fd",
   "metadata": {},
   "outputs": [],
   "source": []
  }
 ],
 "metadata": {
  "kernelspec": {
   "display_name": "Python 3 (ipykernel)",
   "language": "python",
   "name": "python3"
  },
  "language_info": {
   "codemirror_mode": {
    "name": "ipython",
    "version": 3
   },
   "file_extension": ".py",
   "mimetype": "text/x-python",
   "name": "python",
   "nbconvert_exporter": "python",
   "pygments_lexer": "ipython3",
   "version": "3.9.7"
  }
 },
 "nbformat": 4,
 "nbformat_minor": 5
}
