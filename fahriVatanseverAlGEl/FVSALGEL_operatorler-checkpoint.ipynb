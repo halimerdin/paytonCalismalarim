{
 "cells": [
  {
   "cell_type": "markdown",
   "id": "c381d072",
   "metadata": {},
   "source": [
    "                    Fahri Vatansever Algoritma Geliştirme Kitabı Uygulamaları Operatörler"
   ]
  },
  {
   "cell_type": "code",
   "execution_count": 2,
   "id": "5d211f65",
   "metadata": {},
   "outputs": [
    {
     "name": "stdout",
     "output_type": "stream",
     "text": [
      "Merhaba\n"
     ]
    }
   ],
   "source": [
    "print(\"Merhaba\")"
   ]
  },
  {
   "cell_type": "code",
   "execution_count": 3,
   "id": "198c16c4",
   "metadata": {},
   "outputs": [
    {
     "name": "stdout",
     "output_type": "stream",
     "text": [
      "alo\n"
     ]
    }
   ],
   "source": [
    "print(\"alo\");"
   ]
  },
  {
   "cell_type": "code",
   "execution_count": 4,
   "id": "9c83faf6",
   "metadata": {},
   "outputs": [
    {
     "data": {
      "text/plain": [
       "'buda\\n    çok\\n    satırlık\\n    bir\\n    yorumdur.\\n'"
      ]
     },
     "execution_count": 4,
     "metadata": {},
     "output_type": "execute_result"
    }
   ],
   "source": [
    "#bu tek satırlık bir yorumdur\n",
    "\"\"\"buda\n",
    "    çok\n",
    "    satırlık\n",
    "    bir\n",
    "    yorumdur.\n",
    "\"\"\""
   ]
  },
  {
   "cell_type": "code",
   "execution_count": 5,
   "id": "a1367df3",
   "metadata": {},
   "outputs": [
    {
     "name": "stdout",
     "output_type": "stream",
     "text": [
      "al\u0000\n"
     ]
    }
   ],
   "source": [
    "print(\"al\\0\")"
   ]
  },
  {
   "cell_type": "code",
   "execution_count": 6,
   "id": "d12e8815",
   "metadata": {},
   "outputs": [
    {
     "name": "stdout",
     "output_type": "stream",
     "text": [
      "alo\\ burdayım\n"
     ]
    }
   ],
   "source": [
    "print(\"alo\\ burdayım\")"
   ]
  },
  {
   "cell_type": "markdown",
   "id": "3bc1551c",
   "metadata": {},
   "source": [
    "üs alma işlemi ** ifadesi ile yapılır örneğin:"
   ]
  },
  {
   "cell_type": "code",
   "execution_count": 8,
   "id": "e6da696f",
   "metadata": {},
   "outputs": [
    {
     "data": {
      "text/plain": [
       "9"
      ]
     },
     "execution_count": 8,
     "metadata": {},
     "output_type": "execute_result"
    }
   ],
   "source": [
    "3**2"
   ]
  },
  {
   "cell_type": "markdown",
   "id": "5d15995e",
   "metadata": {},
   "source": [
    "çarpma işlemi * ifadesi ile , bölme işlemi / ifadesi ile, toplama + ifadesi ile, çıkarma - ifadesi ile yapılır. örneğin:"
   ]
  },
  {
   "cell_type": "code",
   "execution_count": 9,
   "id": "681d9c6b",
   "metadata": {},
   "outputs": [
    {
     "name": "stdout",
     "output_type": "stream",
     "text": [
      "6\n",
      "3.0\n",
      "5\n",
      "1\n"
     ]
    }
   ],
   "source": [
    "print(3*2)\n",
    "print(9/3)\n",
    "print(3+2)\n",
    "print(3-2)"
   ]
  },
  {
   "cell_type": "markdown",
   "id": "874dcf06",
   "metadata": {},
   "source": [
    "Mod alma işlemi % ifadesi ile yapılır. Mod almaktan kasdedilen ise bir sayıyı bir sayıya böldümüzde kalanın kaç olduğunu görmektir."
   ]
  },
  {
   "cell_type": "code",
   "execution_count": 10,
   "id": "4ec1f28f",
   "metadata": {},
   "outputs": [
    {
     "data": {
      "text/plain": [
       "1"
      ]
     },
     "execution_count": 10,
     "metadata": {},
     "output_type": "execute_result"
    }
   ],
   "source": [
    "9%4"
   ]
  },
  {
   "cell_type": "markdown",
   "id": "373488d4",
   "metadata": {},
   "source": [
    "a = a + b >>> a + = b olarak  yazabiliriz"
   ]
  },
  {
   "cell_type": "markdown",
   "id": "dcd42bf8",
   "metadata": {},
   "source": [
    "x = x / y >>> x / = y olarak yazabiliriz\n"
   ]
  },
  {
   "cell_type": "markdown",
   "id": "9a796db5",
   "metadata": {},
   "source": [
    "e = e - f >>> e - = f olarak yazabiliriz"
   ]
  },
  {
   "cell_type": "markdown",
   "id": "2663c6c7",
   "metadata": {},
   "source": [
    "t = t * m >>> t * = m olarak yazabiliriz"
   ]
  },
  {
   "cell_type": "markdown",
   "id": "f40ac90a",
   "metadata": {},
   "source": [
    "u = u % w  >>>  u % = w olarak yazabiliriz"
   ]
  },
  {
   "cell_type": "markdown",
   "id": "93015d07",
   "metadata": {},
   "source": [
    "r = r ** p >>> u ** = w olarak yazabiliriz"
   ]
  },
  {
   "cell_type": "markdown",
   "id": "d24f8721",
   "metadata": {},
   "source": [
    "pythonda ayrıca tam sayı olarak dönüt verebilen bölme operatörü vardır ve // ile kullanılır. Normalde / ifadesi ile kullanıcıya dönüt olarak float bir sayı gelirken // ifadesiyle kullanıcıya tam sayı değeri verilir. aslında bu operatör kullanıcaya bölüm değerinin floor değerini gösterir."
   ]
  },
  {
   "cell_type": "code",
   "execution_count": 13,
   "id": "e4be69ad",
   "metadata": {},
   "outputs": [
    {
     "name": "stdout",
     "output_type": "stream",
     "text": [
      "4.5\n",
      "4\n"
     ]
    }
   ],
   "source": [
    "print(9/2)\n",
    "print(9//2)"
   ]
  },
  {
   "cell_type": "markdown",
   "id": "d55fe813",
   "metadata": {},
   "source": [
    "tam sayı döndüren bölme ifadesini A = A // B yerine A // = B olarak kullanabiliriz"
   ]
  },
  {
   "cell_type": "markdown",
   "id": "38413714",
   "metadata": {},
   "source": [
    "   **KARŞILAŞTIRMA OPERATÖRLERİ**\n",
    "*****\n",
    "bu kısımda genel olarak kullanılan operatörler mi sorusuyla geliyor. örn: eşit **mi** eşit değil **mi** vb."
   ]
  },
  {
   "cell_type": "markdown",
   "id": "225aa4c3",
   "metadata": {},
   "source": [
    "eşitği sorgularken **==** kullanılır.\n"
   ]
  },
  {
   "cell_type": "markdown",
   "id": "6cc99308",
   "metadata": {},
   "source": [
    "eşitsizliği sordularken **!=** kullanılır."
   ]
  },
  {
   "cell_type": "markdown",
   "id": "4d2226ed",
   "metadata": {},
   "source": [
    "x değerinin y değerinden küçük olup olmadığını sordularken **x < y** kullanılır.\n"
   ]
  },
  {
   "cell_type": "markdown",
   "id": "edb81b19",
   "metadata": {},
   "source": [
    "x değerinin y değerinden büyük olup olmadığını sordularken **x > y** kullanılır.\n"
   ]
  },
  {
   "cell_type": "markdown",
   "id": "a86c063a",
   "metadata": {},
   "source": [
    "x değerinin y değerinden büyük ve eşit olup olmadığını sordularken **x >= y** kullanılır.\n"
   ]
  },
  {
   "cell_type": "markdown",
   "id": "88c25227",
   "metadata": {},
   "source": [
    "x değerinin y değerinden küçük ve eşit olup olmadığını sordularken **x <= y** kullanılır.\n"
   ]
  },
  {
   "cell_type": "markdown",
   "id": "3a03d291",
   "metadata": {},
   "source": [
    "**MANTIKSAL OPERATÖRLER**\n",
    "*****\n",
    "Genellikle sordu bloklarının içerisinde kullanılan bu opratörler bitsel anlamda kullanıcıya boolean yada bool çıkış verir.Bu ifadeler genellikle çıkış operatörleri ile birlikte kullanıllır. kısacası kullanıcıya **true(1)** yada **false(0)** çıkışını verir\n"
   ]
  },
  {
   "cell_type": "markdown",
   "id": "3e63e797",
   "metadata": {},
   "source": [
    "değil ifadesi için C++ dilinde kullanılan **!** yerine **~** ifadesi yada **not** yazımı kullanılır. ifade doğruysa **0** çıkışı, yanlışsa **1** çıkışı verir.\n",
    "****\n",
    "yani değilini alır."
   ]
  },
  {
   "cell_type": "markdown",
   "id": "56178df9",
   "metadata": {},
   "source": [
    "2 terim için lojiksel sordulama yapılacaksa **veya(or)** ve **ve(and)** yaıları kullanılır.\n",
    "*** *\n",
    "2 terimden(terimlerden kastımız karşılaştırılan 2 ifade de olabilir) her hangi biri"
   ]
  },
  {
   "cell_type": "code",
   "execution_count": 19,
   "id": "39dadd5d",
   "metadata": {},
   "outputs": [
    {
     "data": {
      "text/plain": [
       "True"
      ]
     },
     "execution_count": 19,
     "metadata": {},
     "output_type": "execute_result"
    }
   ],
   "source": [
    "a=False\n",
    "b=True\n",
    "a or b"
   ]
  },
  {
   "cell_type": "code",
   "execution_count": null,
   "id": "f44d6f22",
   "metadata": {},
   "outputs": [],
   "source": []
  }
 ],
 "metadata": {
  "kernelspec": {
   "display_name": "Python 3 (ipykernel)",
   "language": "python",
   "name": "python3"
  },
  "language_info": {
   "codemirror_mode": {
    "name": "ipython",
    "version": 3
   },
   "file_extension": ".py",
   "mimetype": "text/x-python",
   "name": "python",
   "nbconvert_exporter": "python",
   "pygments_lexer": "ipython3",
   "version": "3.9.7"
  },
  "widgets": {
   "application/vnd.jupyter.widget-state+json": {
    "state": {},
    "version_major": 2,
    "version_minor": 0
   }
  }
 },
 "nbformat": 4,
 "nbformat_minor": 5
}
